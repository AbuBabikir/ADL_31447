{
 "cells": [
  {
   "cell_type": "markdown",
   "metadata": {},
   "source": [
    "# Audio preprocess\n",
    "\n",
    "    \n"
   ]
  },
  {
   "cell_type": "code",
   "execution_count": 24,
   "metadata": {},
   "outputs": [],
   "source": [
    "import tensorflow as tf\n",
    "import os\n",
    "import numpy as np\n",
    "import pandas as pd\n",
    "from uritools import uricompose, urijoin, urisplit, uriunsplit\n"
   ]
  },
  {
   "cell_type": "code",
   "execution_count": 25,
   "metadata": {},
   "outputs": [],
   "source": [
    "curr_dir = os.getcwd()\n",
    "\n",
    "dataFrame = pd.read_csv('../data.csv')\n",
    "\n",
    "def getAudioName(row):\n",
    "    strategy = row['strategy']\n",
    "    url = row['url']\n",
    "    label = row['label']\n",
    "    \n",
    "    if (strategy == \"youtube\"):\n",
    "        url_data = urisplit(url)\n",
    "        video_id = url_data.getquerydict().get(\"v\")[0]\n",
    "        return label + \"_\" + video_id + \".wav\"\n",
    "    else:\n",
    "        print(\"Strategy \"+strategy+\" not defined!\")\n",
    "\n",
    "dataFrame['fileName'] = dataFrame.apply (getAudioName, axis=1)"
   ]
  },
  {
   "cell_type": "code",
   "execution_count": 26,
   "metadata": {},
   "outputs": [],
   "source": [
    "from pydub import AudioSegment\n",
    "from pydub.silence import split_on_silence\n",
    "from tqdm import tqdm\n",
    "import os\n",
    "\n",
    "FILE_DIR = \"./audio_data/\"\n",
    "\n",
    "def preprocess(filePath, label, silence_in_msec):\n",
    "    sound_file = AudioSegment.from_wav(filePath)\n",
    "    audio_chunks = split_on_silence(sound_file, \n",
    "        # must be silent for at least half a second\n",
    "        min_silence_len=silence_in_msec,\n",
    "\n",
    "        # consider it silent if quieter than -16 dBFS\n",
    "        silence_thresh=-16\n",
    "    )\n",
    "    outDir = \".//preprocessed_audio//\" + label\n",
    "    os.makedirs(outDir, exist_ok=True)\n",
    "    for i, chunk in enumerate(audio_chunks):\n",
    "        out_file = outDir + \"//chunk{0}.wav\".format(i)\n",
    "        print (\"exporting\", out_file)\n",
    "        chunk.export(out_file, format=\"wav\")"
   ]
  },
  {
   "cell_type": "code",
   "execution_count": 27,
   "metadata": {},
   "outputs": [
    {
     "name": "stderr",
     "output_type": "stream",
     "text": [
      "\n",
      "\n",
      "0it [00:00, ?it/s]\u001b[A\u001b[A"
     ]
    },
    {
     "name": "stdout",
     "output_type": "stream",
     "text": [
      "./audio_data/angelamerkel_4APIf4O6Inc.wav\n"
     ]
    },
    {
     "name": "stderr",
     "output_type": "stream",
     "text": [
      "\n",
      "\n",
      "1it [00:01,  1.85s/it]\u001b[A\u001b[A"
     ]
    },
    {
     "name": "stdout",
     "output_type": "stream",
     "text": [
      "./audio_data/angelamerkel_v63SKddbG2w.wav\n"
     ]
    },
    {
     "name": "stderr",
     "output_type": "stream",
     "text": [
      "\n",
      "\n",
      "2it [00:04,  1.95s/it]\u001b[A\u001b[A"
     ]
    },
    {
     "name": "stdout",
     "output_type": "stream",
     "text": [
      "./audio_data/angelamerkel_ZhIurnatBJw.wav\n"
     ]
    },
    {
     "name": "stderr",
     "output_type": "stream",
     "text": [
      "\n",
      "\n",
      "3it [00:06,  1.99s/it]\u001b[A\u001b[A"
     ]
    },
    {
     "name": "stdout",
     "output_type": "stream",
     "text": [
      "./audio_data/angelamerkel_ltIDG1xzSWc.wav\n"
     ]
    },
    {
     "name": "stderr",
     "output_type": "stream",
     "text": [
      "\n",
      "\n",
      "4it [00:07,  1.70s/it]\u001b[A\u001b[A"
     ]
    },
    {
     "name": "stdout",
     "output_type": "stream",
     "text": [
      "./audio_data/angelamerkel_SD939Q6LxRg.wav\n"
     ]
    },
    {
     "name": "stderr",
     "output_type": "stream",
     "text": [
      "\n",
      "\n",
      "5it [00:08,  1.56s/it]\u001b[A\u001b[A"
     ]
    },
    {
     "name": "stdout",
     "output_type": "stream",
     "text": [
      "exporting .//preprocessed_audio//angelamerkel//chunk0.wav\n",
      "exporting .//preprocessed_audio//angelamerkel//chunk1.wav\n",
      "exporting .//preprocessed_audio//angelamerkel//chunk2.wav\n",
      "exporting .//preprocessed_audio//angelamerkel//chunk3.wav\n",
      "exporting .//preprocessed_audio//angelamerkel//chunk4.wav\n",
      "exporting .//preprocessed_audio//angelamerkel//chunk5.wav\n",
      "exporting .//preprocessed_audio//angelamerkel//chunk6.wav\n",
      "exporting .//preprocessed_audio//angelamerkel//chunk7.wav\n",
      "exporting .//preprocessed_audio//angelamerkel//chunk8.wav\n",
      "exporting .//preprocessed_audio//angelamerkel//chunk9.wav\n",
      "exporting .//preprocessed_audio//angelamerkel//chunk10.wav\n",
      "exporting .//preprocessed_audio//angelamerkel//chunk11.wav\n",
      "exporting .//preprocessed_audio//angelamerkel//chunk12.wav\n",
      "./audio_data/angelamerkel_Wf9bvwPlzgs.wav\n"
     ]
    },
    {
     "name": "stderr",
     "output_type": "stream",
     "text": [
      "\n",
      "\n",
      "6it [00:12,  2.21s/it]\u001b[A\u001b[A"
     ]
    },
    {
     "name": "stdout",
     "output_type": "stream",
     "text": [
      "./audio_data/aliceweidel_D6I0jH4uT8I.wav\n"
     ]
    },
    {
     "name": "stderr",
     "output_type": "stream",
     "text": [
      "\n",
      "\n",
      "7it [00:13,  2.05s/it]\u001b[A\u001b[A"
     ]
    },
    {
     "name": "stdout",
     "output_type": "stream",
     "text": [
      "./audio_data/aliceweidel_So_3I-wQVpc.wav\n"
     ]
    },
    {
     "name": "stderr",
     "output_type": "stream",
     "text": [
      "\n",
      "\n",
      "8it [00:14,  1.79s/it]\u001b[A\u001b[A"
     ]
    },
    {
     "name": "stdout",
     "output_type": "stream",
     "text": [
      "./audio_data/aliceweidel_w-m5O_upKkk.wav\n"
     ]
    },
    {
     "name": "stderr",
     "output_type": "stream",
     "text": [
      "\n",
      "\n",
      "9it [00:15,  1.52s/it]\u001b[A\u001b[A"
     ]
    },
    {
     "name": "stdout",
     "output_type": "stream",
     "text": [
      "./audio_data/aliceweidel_AO8OShVa8u4.wav\n"
     ]
    },
    {
     "name": "stderr",
     "output_type": "stream",
     "text": [
      "\n",
      "\n",
      "10it [00:16,  1.34s/it]\u001b[A\u001b[A"
     ]
    },
    {
     "name": "stdout",
     "output_type": "stream",
     "text": [
      "./audio_data/aliceweidel_yiLA8P8ECQE.wav\n"
     ]
    },
    {
     "name": "stderr",
     "output_type": "stream",
     "text": [
      "\n",
      "\n",
      "11it [00:19,  1.91s/it]\u001b[A\u001b[A"
     ]
    },
    {
     "name": "stdout",
     "output_type": "stream",
     "text": [
      "./audio_data/karambadiaby_fNihW_QE168.wav\n"
     ]
    },
    {
     "name": "stderr",
     "output_type": "stream",
     "text": [
      "\n",
      "\n",
      "12it [00:22,  2.15s/it]\u001b[A\u001b[A"
     ]
    },
    {
     "name": "stdout",
     "output_type": "stream",
     "text": [
      "exporting .//preprocessed_audio//karambadiaby//chunk0.wav\n",
      "./audio_data/karambadiaby_Wj7-r2O-bzc.wav\n"
     ]
    },
    {
     "name": "stderr",
     "output_type": "stream",
     "text": [
      "\n",
      "\n",
      "13it [00:24,  2.11s/it]\u001b[A\u001b[A"
     ]
    },
    {
     "name": "stdout",
     "output_type": "stream",
     "text": [
      "./audio_data/karambadiaby_F6vjLGZJA4w.wav\n"
     ]
    },
    {
     "name": "stderr",
     "output_type": "stream",
     "text": [
      "\n",
      "\n",
      "14it [00:26,  2.10s/it]\u001b[A\u001b[A"
     ]
    },
    {
     "name": "stdout",
     "output_type": "stream",
     "text": [
      "exporting .//preprocessed_audio//karambadiaby//chunk0.wav\n",
      "exporting .//preprocessed_audio//karambadiaby//chunk1.wav\n",
      "exporting .//preprocessed_audio//karambadiaby//chunk2.wav\n",
      "exporting .//preprocessed_audio//karambadiaby//chunk3.wav\n",
      "./audio_data/karambadiaby_ZtLEcdcd58U.wav\n"
     ]
    },
    {
     "name": "stderr",
     "output_type": "stream",
     "text": [
      "\n",
      "\n",
      "15it [00:27,  1.84s/it]\u001b[A\u001b[A\n"
     ]
    }
   ],
   "source": [
    "MIN_SECONDS_SILENCE_LEN = 200\n",
    "\n",
    "for index, row in tqdm(dataFrame.iterrows()):\n",
    "    filePath = FILE_DIR + row['fileName']\n",
    "    label = row['label']\n",
    "    print(filePath)\n",
    "    preprocess(filePath, label, MIN_SECONDS_SILENCE_LEN)"
   ]
  },
  {
   "cell_type": "code",
   "execution_count": null,
   "metadata": {},
   "outputs": [],
   "source": []
  }
 ],
 "metadata": {
  "kernelspec": {
   "display_name": "tensorflow",
   "language": "python",
   "name": "tensorflow"
  },
  "language_info": {
   "codemirror_mode": {
    "name": "ipython",
    "version": 3
   },
   "file_extension": ".py",
   "mimetype": "text/x-python",
   "name": "python",
   "nbconvert_exporter": "python",
   "pygments_lexer": "ipython3",
   "version": "3.7.5"
  }
 },
 "nbformat": 4,
 "nbformat_minor": 2
}
