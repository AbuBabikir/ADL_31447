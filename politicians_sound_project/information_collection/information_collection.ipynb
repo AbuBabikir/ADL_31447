{
 "cells": [
  {
   "cell_type": "markdown",
   "metadata": {},
   "source": [
    "# Information Collection\n",
    "\n",
    "    \n"
   ]
  },
  {
   "cell_type": "code",
   "execution_count": 47,
   "metadata": {},
   "outputs": [],
   "source": [
    "import pandas as pd\n",
    "from tqdm import tqdm\n",
    "from abc import ABC, abstractmethod\n",
    "import os\n",
    "import wave\n",
    "\n",
    "class DataExtractorStrategy:\n",
    "    def __init__(self, target):\n",
    "        self.target = target\n",
    "        \n",
    "    @abstractmethod\n",
    "    def extractData(self):\n",
    "        pass\n",
    "\n",
    "class YoutubeExtractor(DataExtractorStrategy):\n",
    "    def __init__(self, url, start, end):\n",
    "        super(YoutubeExtractor, self).__init__(url)\n",
    "        self.start = start\n",
    "        self.end = end\n",
    "\n",
    "    def extractData(self, name):\n",
    "        print('-ss ' + self.start + ' -t ' + self.end)\n",
    "        if len(self.target) > 1:\n",
    "            vid_name = \"'\" + OUTPUT_DIR + name + '_' + '%(id)s.%(ext)s' + \"'\"\n",
    "            start_end = \"'-ss \" + self.start + \" -t \" + self.end + \" -ar 8000'\"\n",
    "            print(start_end)\n",
    "            \n",
    "            command = \"youtube-dl -x --audio-format wav --output \" + vid_name + \" --postprocessor-args \" + start_end + \" \\\"\" + self.target + \"\\\"\"\n",
    "            os.system(command)\n",
    "            print(command)\n",
    "        else:\n",
    "            print(\"Empty url found!\")\n",
    "            \n",
    "\n",
    "class DataExtractor:\n",
    "    \n",
    "    def __init__(self, csvFilePath):\n",
    "        self.filePath=csvFilePath\n",
    "    \n",
    "    def readData(self):\n",
    "        print(\"Reading data: \", self.filePath)\n",
    "        self.df = pd.read_csv(self.filePath)\n",
    "    \n",
    "    def prepareData(self):\n",
    "        print(\"Preparing data\")\n",
    "        for index, row in tqdm(self.df.iterrows()):\n",
    "            print(row)\n",
    "            url = row[\"url\"]\n",
    "            strategy = row[\"strategy\"]\n",
    "            start = row[\"start\"]\n",
    "            end = row[\"end\"]\n",
    "            label = row[\"label\"]\n",
    "            \n",
    "            self.getData(url, start, end, strategy, label)\n",
    "            \n",
    "    def getData(self, url, start, end ,strategy, label):\n",
    "        if(strategy == 'youtube'):\n",
    "            dataExtractor = YoutubeExtractor(url, start, end)\n",
    "            dataExtractor.extractData(name=label)\n",
    "        else:\n",
    "            raise Exception(\"Strategy <\", strategy, \"> is not supported! (at url: \" + url + \")\")\n"
   ]
  },
  {
   "cell_type": "code",
   "execution_count": 48,
   "metadata": {},
   "outputs": [
    {
     "name": "stderr",
     "output_type": "stream",
     "text": [
      "\r",
      "0it [00:00, ?it/s]"
     ]
    },
    {
     "name": "stdout",
     "output_type": "stream",
     "text": [
      "Reading data:  ../data.csv\n",
      "Preparing data\n",
      "url         https://www.youtube.com/watch?v=4APIf4O6Inc\n",
      "strategy                                        youtube\n",
      "start                                       00:00:08.00\n",
      "end                                         00:01:07.00\n",
      "label                                      angelamerkel\n",
      "Name: 0, dtype: object\n",
      "-ss 00:00:08.00 -t 00:01:07.00\n",
      "'-ss 00:00:08.00 -t 00:01:07.00 -ar 8000'\n"
     ]
    },
    {
     "name": "stderr",
     "output_type": "stream",
     "text": [
      "\r",
      "1it [00:07,  7.89s/it]"
     ]
    },
    {
     "name": "stdout",
     "output_type": "stream",
     "text": [
      "youtube-dl -x --audio-format wav --output 'audio_data/angelamerkel_%(id)s.%(ext)s' --postprocessor-args '-ss 00:00:08.00 -t 00:01:07.00 -ar 8000' \"https://www.youtube.com/watch?v=4APIf4O6Inc\"\n",
      "url         https://www.youtube.com/watch?v=v63SKddbG2w\n",
      "strategy                                        youtube\n",
      "start                                       00:11:00.00\n",
      "end                                         00:11:14.00\n",
      "label                                      angelamerkel\n",
      "Name: 1, dtype: object\n",
      "-ss 00:11:00.00 -t 00:11:14.00\n",
      "'-ss 00:11:00.00 -t 00:11:14.00 -ar 8000'\n"
     ]
    },
    {
     "name": "stderr",
     "output_type": "stream",
     "text": [
      "\r",
      "2it [00:31, 12.70s/it]"
     ]
    },
    {
     "name": "stdout",
     "output_type": "stream",
     "text": [
      "youtube-dl -x --audio-format wav --output 'audio_data/angelamerkel_%(id)s.%(ext)s' --postprocessor-args '-ss 00:11:00.00 -t 00:11:14.00 -ar 8000' \"https://www.youtube.com/watch?v=v63SKddbG2w\"\n",
      "url         https://www.youtube.com/watch?v=ZhIurnatBJw\n",
      "strategy                                        youtube\n",
      "start                                       00:02:02.00\n",
      "end                                         00:02:40.00\n",
      "label                                      angelamerkel\n",
      "Name: 2, dtype: object\n",
      "-ss 00:02:02.00 -t 00:02:40.00\n",
      "'-ss 00:02:02.00 -t 00:02:40.00 -ar 8000'\n"
     ]
    },
    {
     "name": "stderr",
     "output_type": "stream",
     "text": [
      "\r",
      "3it [01:16, 22.36s/it]"
     ]
    },
    {
     "name": "stdout",
     "output_type": "stream",
     "text": [
      "youtube-dl -x --audio-format wav --output 'audio_data/angelamerkel_%(id)s.%(ext)s' --postprocessor-args '-ss 00:02:02.00 -t 00:02:40.00 -ar 8000' \"https://www.youtube.com/watch?v=ZhIurnatBJw\"\n",
      "url         https://www.youtube.com/watch?v=ltIDG1xzSWc\n",
      "strategy                                        youtube\n",
      "start                                       00:00:15.00\n",
      "end                                         00:00:35.00\n",
      "label                                      angelamerkel\n",
      "Name: 3, dtype: object\n",
      "-ss 00:00:15.00 -t 00:00:35.00\n",
      "'-ss 00:00:15.00 -t 00:00:35.00 -ar 8000'\n"
     ]
    },
    {
     "name": "stderr",
     "output_type": "stream",
     "text": [
      "\r",
      "4it [01:29, 19.57s/it]"
     ]
    },
    {
     "name": "stdout",
     "output_type": "stream",
     "text": [
      "youtube-dl -x --audio-format wav --output 'audio_data/angelamerkel_%(id)s.%(ext)s' --postprocessor-args '-ss 00:00:15.00 -t 00:00:35.00 -ar 8000' \"https://www.youtube.com/watch?v=ltIDG1xzSWc\"\n",
      "url         https://www.youtube.com/watch?v=SD939Q6LxRg\n",
      "strategy                                        youtube\n",
      "start                                       00:00:12.00\n",
      "end                                         00:00:25.00\n",
      "label                                      angelamerkel\n",
      "Name: 4, dtype: object\n",
      "-ss 00:00:12.00 -t 00:00:25.00\n",
      "'-ss 00:00:12.00 -t 00:00:25.00 -ar 8000'\n"
     ]
    },
    {
     "name": "stderr",
     "output_type": "stream",
     "text": [
      "\r",
      "5it [01:37, 15.94s/it]"
     ]
    },
    {
     "name": "stdout",
     "output_type": "stream",
     "text": [
      "youtube-dl -x --audio-format wav --output 'audio_data/angelamerkel_%(id)s.%(ext)s' --postprocessor-args '-ss 00:00:12.00 -t 00:00:25.00 -ar 8000' \"https://www.youtube.com/watch?v=SD939Q6LxRg\"\n",
      "url         https://www.youtube.com/watch?v=Wf9bvwPlzgs\n",
      "strategy                                        youtube\n",
      "start                                       00:00:51.00\n",
      "end                                         00:02:25.00\n",
      "label                                      angelamerkel\n",
      "Name: 5, dtype: object\n",
      "-ss 00:00:51.00 -t 00:02:25.00\n",
      "'-ss 00:00:51.00 -t 00:02:25.00 -ar 8000'\n"
     ]
    },
    {
     "name": "stderr",
     "output_type": "stream",
     "text": [
      "\r",
      "6it [02:02, 18.74s/it]"
     ]
    },
    {
     "name": "stdout",
     "output_type": "stream",
     "text": [
      "youtube-dl -x --audio-format wav --output 'audio_data/angelamerkel_%(id)s.%(ext)s' --postprocessor-args '-ss 00:00:51.00 -t 00:02:25.00 -ar 8000' \"https://www.youtube.com/watch?v=Wf9bvwPlzgs\"\n",
      "url         https://www.youtube.com/watch?v=D6I0jH4uT8I\n",
      "strategy                                        youtube\n",
      "start                                       00:00:05.00\n",
      "end                                         00:00:42.00\n",
      "label                                       aliceweidel\n",
      "Name: 6, dtype: object\n",
      "-ss 00:00:05.00 -t 00:00:42.00\n",
      "'-ss 00:00:05.00 -t 00:00:42.00 -ar 8000'\n"
     ]
    },
    {
     "name": "stderr",
     "output_type": "stream",
     "text": [
      "\r",
      "7it [02:12, 16.12s/it]"
     ]
    },
    {
     "name": "stdout",
     "output_type": "stream",
     "text": [
      "youtube-dl -x --audio-format wav --output 'audio_data/aliceweidel_%(id)s.%(ext)s' --postprocessor-args '-ss 00:00:05.00 -t 00:00:42.00 -ar 8000' \"https://www.youtube.com/watch?v=D6I0jH4uT8I\"\n",
      "url         https://www.youtube.com/watch?v=So_3I-wQVpc\n",
      "strategy                                        youtube\n",
      "start                                       00:00:23.00\n",
      "end                                         00:00:35.00\n",
      "label                                       aliceweidel\n",
      "Name: 7, dtype: object\n",
      "-ss 00:00:23.00 -t 00:00:35.00\n",
      "'-ss 00:00:23.00 -t 00:00:35.00 -ar 8000'\n"
     ]
    },
    {
     "name": "stderr",
     "output_type": "stream",
     "text": [
      "\r",
      "8it [02:22, 14.35s/it]"
     ]
    },
    {
     "name": "stdout",
     "output_type": "stream",
     "text": [
      "youtube-dl -x --audio-format wav --output 'audio_data/aliceweidel_%(id)s.%(ext)s' --postprocessor-args '-ss 00:00:23.00 -t 00:00:35.00 -ar 8000' \"https://www.youtube.com/watch?v=So_3I-wQVpc\"\n",
      "url         https://www.youtube.com/watch?v=w-m5O_upKkk\n",
      "strategy                                        youtube\n",
      "start                                       00:00:16.00\n",
      "end                                         00:00:24.00\n",
      "label                                       aliceweidel\n",
      "Name: 8, dtype: object\n",
      "-ss 00:00:16.00 -t 00:00:24.00\n",
      "'-ss 00:00:16.00 -t 00:00:24.00 -ar 8000'\n"
     ]
    },
    {
     "name": "stderr",
     "output_type": "stream",
     "text": [
      "\r",
      "9it [02:29, 11.97s/it]"
     ]
    },
    {
     "name": "stdout",
     "output_type": "stream",
     "text": [
      "youtube-dl -x --audio-format wav --output 'audio_data/aliceweidel_%(id)s.%(ext)s' --postprocessor-args '-ss 00:00:16.00 -t 00:00:24.00 -ar 8000' \"https://www.youtube.com/watch?v=w-m5O_upKkk\"\n",
      "url         https://www.youtube.com/watch?v=AO8OShVa8u4\n",
      "strategy                                        youtube\n",
      "start                                       00:00:13.00\n",
      "end                                         00:00:30.00\n",
      "label                                       aliceweidel\n",
      "Name: 9, dtype: object\n",
      "-ss 00:00:13.00 -t 00:00:30.00\n",
      "'-ss 00:00:13.00 -t 00:00:30.00 -ar 8000'\n"
     ]
    },
    {
     "name": "stderr",
     "output_type": "stream",
     "text": [
      "\r",
      "10it [02:33,  9.79s/it]"
     ]
    },
    {
     "name": "stdout",
     "output_type": "stream",
     "text": [
      "youtube-dl -x --audio-format wav --output 'audio_data/aliceweidel_%(id)s.%(ext)s' --postprocessor-args '-ss 00:00:13.00 -t 00:00:30.00 -ar 8000' \"https://www.youtube.com/watch?v=AO8OShVa8u4\"\n",
      "url         https://www.youtube.com/watch?v=fNihW_QE168\n",
      "strategy                                        youtube\n",
      "start                                       00:00:52.00\n",
      "end                                         00:01:15.00\n",
      "label                                      karambadiaby\n",
      "Name: 10, dtype: object\n",
      "-ss 00:00:52.00 -t 00:01:15.00\n",
      "'-ss 00:00:52.00 -t 00:01:15.00 -ar 8000'\n"
     ]
    },
    {
     "name": "stderr",
     "output_type": "stream",
     "text": [
      "\r",
      "11it [02:39,  8.53s/it]"
     ]
    },
    {
     "name": "stdout",
     "output_type": "stream",
     "text": [
      "youtube-dl -x --audio-format wav --output 'audio_data/karambadiaby_%(id)s.%(ext)s' --postprocessor-args '-ss 00:00:52.00 -t 00:01:15.00 -ar 8000' \"https://www.youtube.com/watch?v=fNihW_QE168\"\n",
      "url         https://www.youtube.com/watch?v=Wj7-r2O-bzc\n",
      "strategy                                        youtube\n",
      "start                                       00:00:07.00\n",
      "end                                         00:01:00.00\n",
      "label                                      karambadiaby\n",
      "Name: 11, dtype: object\n",
      "-ss 00:00:07.00 -t 00:01:00.00\n",
      "'-ss 00:00:07.00 -t 00:01:00.00 -ar 8000'\n"
     ]
    },
    {
     "name": "stderr",
     "output_type": "stream",
     "text": [
      "\r",
      "12it [02:45,  7.88s/it]"
     ]
    },
    {
     "name": "stdout",
     "output_type": "stream",
     "text": [
      "youtube-dl -x --audio-format wav --output 'audio_data/karambadiaby_%(id)s.%(ext)s' --postprocessor-args '-ss 00:00:07.00 -t 00:01:00.00 -ar 8000' \"https://www.youtube.com/watch?v=Wj7-r2O-bzc\"\n",
      "url         https://www.youtube.com/watch?v=F6vjLGZJA4w\n",
      "strategy                                        youtube\n",
      "start                                       00:00:43.00\n",
      "end                                         00:00:56.00\n",
      "label                                      karambadiaby\n",
      "Name: 12, dtype: object\n",
      "-ss 00:00:43.00 -t 00:00:56.00\n",
      "'-ss 00:00:43.00 -t 00:00:56.00 -ar 8000'\n"
     ]
    },
    {
     "name": "stderr",
     "output_type": "stream",
     "text": [
      "\r",
      "13it [02:51,  7.15s/it]"
     ]
    },
    {
     "name": "stdout",
     "output_type": "stream",
     "text": [
      "youtube-dl -x --audio-format wav --output 'audio_data/karambadiaby_%(id)s.%(ext)s' --postprocessor-args '-ss 00:00:43.00 -t 00:00:56.00 -ar 8000' \"https://www.youtube.com/watch?v=F6vjLGZJA4w\"\n",
      "url         https://www.youtube.com/watch?v=ZtLEcdcd58U\n",
      "strategy                                        youtube\n",
      "start                                       00:00:05.00\n",
      "end                                         00:00:27.00\n",
      "label                                      karambadiaby\n",
      "Name: 13, dtype: object\n",
      "-ss 00:00:05.00 -t 00:00:27.00\n",
      "'-ss 00:00:05.00 -t 00:00:27.00 -ar 8000'\n"
     ]
    },
    {
     "name": "stderr",
     "output_type": "stream",
     "text": [
      "\r",
      "14it [02:55,  6.39s/it]"
     ]
    },
    {
     "name": "stdout",
     "output_type": "stream",
     "text": [
      "youtube-dl -x --audio-format wav --output 'audio_data/karambadiaby_%(id)s.%(ext)s' --postprocessor-args '-ss 00:00:05.00 -t 00:00:27.00 -ar 8000' \"https://www.youtube.com/watch?v=ZtLEcdcd58U\"\n",
      "url         https://www.youtube.com/watch?v=fg7dWahOv-w\n",
      "strategy                                        youtube\n",
      "start                                       00:00:01.00\n",
      "end                                         00:00:50.00\n",
      "label                                      habeckrobert\n",
      "Name: 14, dtype: object\n",
      "-ss 00:00:01.00 -t 00:00:50.00\n",
      "'-ss 00:00:01.00 -t 00:00:50.00 -ar 8000'\n"
     ]
    },
    {
     "name": "stderr",
     "output_type": "stream",
     "text": [
      "\r",
      "15it [03:00,  5.99s/it]"
     ]
    },
    {
     "name": "stdout",
     "output_type": "stream",
     "text": [
      "youtube-dl -x --audio-format wav --output 'audio_data/habeckrobert_%(id)s.%(ext)s' --postprocessor-args '-ss 00:00:01.00 -t 00:00:50.00 -ar 8000' \"https://www.youtube.com/watch?v=fg7dWahOv-w\"\n",
      "url         https://www.youtube.com/watch?v=HEA3n9acVMA\n",
      "strategy                                        youtube\n",
      "start                                       00:00:03.00\n",
      "end                                         00:00:45.00\n",
      "label                                      habeckrobert\n",
      "Name: 15, dtype: object\n",
      "-ss 00:00:03.00 -t 00:00:45.00\n",
      "'-ss 00:00:03.00 -t 00:00:45.00 -ar 8000'\n"
     ]
    },
    {
     "name": "stderr",
     "output_type": "stream",
     "text": [
      "\r",
      "16it [03:20, 10.06s/it]"
     ]
    },
    {
     "name": "stdout",
     "output_type": "stream",
     "text": [
      "youtube-dl -x --audio-format wav --output 'audio_data/habeckrobert_%(id)s.%(ext)s' --postprocessor-args '-ss 00:00:03.00 -t 00:00:45.00 -ar 8000' \"https://www.youtube.com/watch?v=HEA3n9acVMA\"\n",
      "url         https://www.youtube.com/watch?v=HEA3n9acVMA\n",
      "strategy                                        youtube\n",
      "start                                       00:00:03.00\n",
      "end                                         00:00:45.00\n",
      "label                                      habeckrobert\n",
      "Name: 16, dtype: object\n",
      "-ss 00:00:03.00 -t 00:00:45.00\n",
      "'-ss 00:00:03.00 -t 00:00:45.00 -ar 8000'\n"
     ]
    },
    {
     "name": "stderr",
     "output_type": "stream",
     "text": [
      "\r",
      "17it [03:40, 12.93s/it]"
     ]
    },
    {
     "name": "stdout",
     "output_type": "stream",
     "text": [
      "youtube-dl -x --audio-format wav --output 'audio_data/habeckrobert_%(id)s.%(ext)s' --postprocessor-args '-ss 00:00:03.00 -t 00:00:45.00 -ar 8000' \"https://www.youtube.com/watch?v=HEA3n9acVMA\"\n",
      "url         https://www.youtube.com/watch?v=1EauH_lWqEY\n",
      "strategy                                        youtube\n",
      "start                                       00:00:02.00\n",
      "end                                         00:00:40.00\n",
      "label                                      habeckrobert\n",
      "Name: 17, dtype: object\n",
      "-ss 00:00:02.00 -t 00:00:40.00\n",
      "'-ss 00:00:02.00 -t 00:00:40.00 -ar 8000'\n"
     ]
    },
    {
     "name": "stderr",
     "output_type": "stream",
     "text": [
      "18it [03:59, 13.30s/it]"
     ]
    },
    {
     "name": "stdout",
     "output_type": "stream",
     "text": [
      "youtube-dl -x --audio-format wav --output 'audio_data/habeckrobert_%(id)s.%(ext)s' --postprocessor-args '-ss 00:00:02.00 -t 00:00:40.00 -ar 8000' \"https://www.youtube.com/watch?v=1EauH_lWqEY\"\n"
     ]
    },
    {
     "name": "stderr",
     "output_type": "stream",
     "text": [
      "\n"
     ]
    }
   ],
   "source": [
    "OUTPUT_DIR = \"audio_data/\"\n",
    "de = DataExtractor('../data.csv')\n",
    "de.readData()\n",
    "de.prepareData()"
   ]
  },
  {
   "cell_type": "markdown",
   "metadata": {},
   "source": [
    "# Download Test Audio"
   ]
  },
  {
   "cell_type": "code",
   "execution_count": 49,
   "metadata": {},
   "outputs": [
    {
     "name": "stderr",
     "output_type": "stream",
     "text": [
      "\r",
      "0it [00:00, ?it/s]"
     ]
    },
    {
     "name": "stdout",
     "output_type": "stream",
     "text": [
      "Reading data:  ../test_data.csv\n",
      "Preparing data\n",
      "url         https://www.youtube.com/watch?v=S3C5H-2SqYU\n",
      "strategy                                        youtube\n",
      "start                                       00:00:15.00\n",
      "end                                         00:00:40.00\n",
      "label                                      angelamerkel\n",
      "Name: 0, dtype: object\n",
      "-ss 00:00:15.00 -t 00:00:40.00\n",
      "'-ss 00:00:15.00 -t 00:00:40.00 -ar 8000'\n"
     ]
    },
    {
     "name": "stderr",
     "output_type": "stream",
     "text": [
      "\r",
      "1it [00:06,  6.66s/it]"
     ]
    },
    {
     "name": "stdout",
     "output_type": "stream",
     "text": [
      "youtube-dl -x --audio-format wav --output 'test_audio_data/angelamerkel_%(id)s.%(ext)s' --postprocessor-args '-ss 00:00:15.00 -t 00:00:40.00 -ar 8000' \"https://www.youtube.com/watch?v=S3C5H-2SqYU\"\n",
      "url         https://www.youtube.com/watch?v=u0KAGFJ76QM\n",
      "strategy                                        youtube\n",
      "start                                       00:00:01.00\n",
      "end                                         00:00:30.00\n",
      "label                                       aliceweidel\n",
      "Name: 1, dtype: object\n",
      "-ss 00:00:01.00 -t 00:00:30.00\n",
      "'-ss 00:00:01.00 -t 00:00:30.00 -ar 8000'\n"
     ]
    },
    {
     "name": "stderr",
     "output_type": "stream",
     "text": [
      "\r",
      "2it [00:13,  6.76s/it]"
     ]
    },
    {
     "name": "stdout",
     "output_type": "stream",
     "text": [
      "youtube-dl -x --audio-format wav --output 'test_audio_data/aliceweidel_%(id)s.%(ext)s' --postprocessor-args '-ss 00:00:01.00 -t 00:00:30.00 -ar 8000' \"https://www.youtube.com/watch?v=u0KAGFJ76QM\"\n",
      "url         https://www.youtube.com/watch?v=ZtLEcdcd58U\n",
      "strategy                                        youtube\n",
      "start                                       00:01:10.00\n",
      "end                                         00:01:33.00\n",
      "label                                      karambadiaby\n",
      "Name: 2, dtype: object\n",
      "-ss 00:01:10.00 -t 00:01:33.00\n",
      "'-ss 00:01:10.00 -t 00:01:33.00 -ar 8000'\n"
     ]
    },
    {
     "name": "stderr",
     "output_type": "stream",
     "text": [
      "\r",
      "3it [00:18,  6.08s/it]"
     ]
    },
    {
     "name": "stdout",
     "output_type": "stream",
     "text": [
      "youtube-dl -x --audio-format wav --output 'test_audio_data/karambadiaby_%(id)s.%(ext)s' --postprocessor-args '-ss 00:01:10.00 -t 00:01:33.00 -ar 8000' \"https://www.youtube.com/watch?v=ZtLEcdcd58U\"\n",
      "url         https://www.youtube.com/watch?v=jte-Ch6woAs\n",
      "strategy                                        youtube\n",
      "start                                       00:00:10.00\n",
      "end                                         00:00:40.00\n",
      "label                                      habeckrobert\n",
      "Name: 3, dtype: object\n",
      "-ss 00:00:10.00 -t 00:00:40.00\n",
      "'-ss 00:00:10.00 -t 00:00:40.00 -ar 8000'\n"
     ]
    },
    {
     "name": "stderr",
     "output_type": "stream",
     "text": [
      "4it [00:25,  6.43s/it]"
     ]
    },
    {
     "name": "stdout",
     "output_type": "stream",
     "text": [
      "youtube-dl -x --audio-format wav --output 'test_audio_data/habeckrobert_%(id)s.%(ext)s' --postprocessor-args '-ss 00:00:10.00 -t 00:00:40.00 -ar 8000' \"https://www.youtube.com/watch?v=jte-Ch6woAs\"\n"
     ]
    },
    {
     "name": "stderr",
     "output_type": "stream",
     "text": [
      "\n"
     ]
    }
   ],
   "source": [
    "OUTPUT_DIR = \"test_audio_data/\"\n",
    "tde = DataExtractor('../test_data.csv')\n",
    "tde.readData()\n",
    "tde.prepareData()"
   ]
  },
  {
   "cell_type": "code",
   "execution_count": null,
   "metadata": {},
   "outputs": [],
   "source": []
  }
 ],
 "metadata": {
  "kernelspec": {
   "display_name": "tensorflow",
   "language": "python",
   "name": "tensorflow"
  },
  "language_info": {
   "codemirror_mode": {
    "name": "ipython",
    "version": 3
   },
   "file_extension": ".py",
   "mimetype": "text/x-python",
   "name": "python",
   "nbconvert_exporter": "python",
   "pygments_lexer": "ipython3",
   "version": "3.7.5"
  }
 },
 "nbformat": 4,
 "nbformat_minor": 2
}
