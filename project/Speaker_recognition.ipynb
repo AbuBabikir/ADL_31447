{
 "cells": [
  {
   "cell_type": "markdown",
   "metadata": {},
   "source": [
    "# Spoken digits\n",
    "## Dataset\n",
    "https://github.com/Jakobovski/free-spoken-digit-dataset\n",
    "\n",
    "## Speech processing\n",
    "https://haythamfayek.com/2016/04/21/speech-processing-for-machine-learning.html\n",
    "        "
   ]
  },
  {
   "cell_type": "code",
   "execution_count": 1,
   "metadata": {},
   "outputs": [],
   "source": [
    "import tensorflow as tf\n",
    "import os\n",
    "import numpy as npqq\n",
    "import pandas as pd"
   ]
  },
  {
   "cell_type": "code",
   "execution_count": 2,
   "metadata": {},
   "outputs": [],
   "source": [
    "curr_dir = os.getcwd()\n",
    "\n",
    "data_output_dir = curr_dir + '/mfcc_output/'\n",
    "\n",
    "dataFrame = pd.read_csv('data/data.csv')\n",
    "\n",
    "jackson_data = dataFrame.loc[dataFrame.label == 'jackson']\n",
    "nicolas_data = dataFrame.loc[dataFrame.label == 'nicolas']\n",
    "theo_data = dataFrame.loc[dataFrame.label == 'theo']\n",
    "yweweler_data = dataFrame.loc[dataFrame.label == 'yweweler']\n",
    "\n",
    "def preprocess(data):\n",
    "    \"\"\"Splits data to train and test set\n",
    "\n",
    "    Parameters:\n",
    "    data (string): files {label}_{name}_{digit}.wav\n",
    "\n",
    "    Returns:\n",
    "    tuple: returns test and train data\n",
    "\n",
    "    \"\"\"\n",
    "    data = data.reindex(np.random.permutation(data.index))\n",
    "    train, test = (data.head(400), data.tail(100))\n",
    "    \n",
    "    \n",
    "    return train, test\n"
   ]
  },
  {
   "cell_type": "code",
   "execution_count": 3,
   "metadata": {},
   "outputs": [],
   "source": [
    "# Split up data\n",
    "\n",
    "jackson_train, jackson_test=preprocess(jackson_data)\n",
    "nicolas_train, nicolas_test=preprocess(nicolas_data)\n",
    "theo_train, theo_test=preprocess(theo_data)\n",
    "yweweler_train, yweweler_test=preprocess(yweweler_data)"
   ]
  },
  {
   "cell_type": "code",
   "execution_count": 4,
   "metadata": {},
   "outputs": [
    {
     "name": "stdout",
     "output_type": "stream",
     "text": [
      "file     500\n",
      "label    500\n",
      "dtype: int64\n",
      "                       file    label\n",
      "0   jackson/0_jackson_0.wav  jackson\n",
      "1   jackson/0_jackson_1.wav  jackson\n",
      "2  jackson/0_jackson_10.wav  jackson\n",
      "================================================\n",
      "file     500\n",
      "label    500\n",
      "dtype: int64\n",
      "                         file    label\n",
      "500   nicolas/0_nicolas_0.wav  nicolas\n",
      "501   nicolas/0_nicolas_1.wav  nicolas\n",
      "502  nicolas/0_nicolas_10.wav  nicolas\n",
      "================================================\n",
      "file     500\n",
      "label    500\n",
      "dtype: int64\n",
      "                    file label\n",
      "1000   theo/0_theo_0.wav  theo\n",
      "1001   theo/0_theo_1.wav  theo\n",
      "1002  theo/0_theo_10.wav  theo\n",
      "================================================\n",
      "file     500\n",
      "label    500\n",
      "dtype: int64\n",
      "                            file     label\n",
      "1500   yweweler/0_yweweler_0.wav  yweweler\n",
      "1501   yweweler/0_yweweler_1.wav  yweweler\n",
      "1502  yweweler/0_yweweler_10.wav  yweweler\n"
     ]
    }
   ],
   "source": [
    "print(jackson_data.count())\n",
    "print(jackson_data.head(3))\n",
    "print(\"================================================\")\n",
    "print(nicolas_data.count())\n",
    "print(nicolas_data.head(3))\n",
    "print(\"================================================\")\n",
    "print(theo_data.count())\n",
    "print(theo_data.head(3))\n",
    "print(\"================================================\")\n",
    "print(yweweler_data.count())\n",
    "print(yweweler_data.head(3))"
   ]
  },
  {
   "cell_type": "code",
   "execution_count": 5,
   "metadata": {},
   "outputs": [
    {
     "name": "stdout",
     "output_type": "stream",
     "text": [
      "data/jackson/0_jackson_0.wav\n",
      "data/nicolas/0_nicolas_0.wav\n",
      "data/theo/0_theo_0.wav\n",
      "data/yweweler/0_yweweler_0.wav\n"
     ]
    },
    {
     "data": {
      "image/png": "[encoded data removed]",
      "text/plain": [
       "<Figure size 2880x720 with 4 Axes>"
      ]
     },
     "metadata": {
      "needs_background": "light"
     },
     "output_type": "display_data"
    }
   ],
   "source": [
    "from python_speech_features import mfcc\n",
    "import wave\n",
    "import librosa.display\n",
    "import matplotlib.pyplot as plt\n",
    "\n",
    "def getFrameRate():\n",
    "    frame_rate=0\n",
    "    #prev_frame_rate=-1\n",
    "    #curr_frame_rate=0\n",
    "    for file_name in dataFrame['file']:\n",
    "        with wave.open('data/' + file_name, \"rb\") as wave_file:\n",
    "            frame_rate = wave_file.getframerate()\n",
    "            break\n",
    "        #if prev_frame_rate < 0:\n",
    "        #    continue\n",
    "        #if prev_frame_rate != curr_frame_rate:\n",
    "        #    raise Exception(\"Invalid frame rate\")\n",
    "        #    \n",
    "        #if frame_rate < curr_frame_rate:\n",
    "        #    frame_rate = curr_frame_rate\n",
    "    \n",
    "    return frame_rate\n",
    "\n",
    "def displayMfccExamples(mfcc_samples):\n",
    "    fig, axes = plt.subplots(nrows=2, ncols=2, sharex=False, sharey=True,figsize=(40,10))\n",
    "    i=0\n",
    "    for x in range(2):\n",
    "        for y in range(2):\n",
    "            axes[x,y].set_title(list(mfcc_samples.keys())[i])\n",
    "            axes[x,y].imshow(list(mfcc_samples.values())[i],\n",
    "                            cmap='hot', interpolation='nearest')\n",
    "            axes[x,y].get_xaxis().set_visible(False)\n",
    "            axes[x,y].get_yaxis().set_visible(False)\n",
    "            i += 1\n",
    "            \n",
    "    return\n",
    "    \n",
    "SAMPLING_RATE = getFrameRate()\n",
    "classes = dataFrame.label.unique()\n",
    "samples = {}\n",
    "\n",
    "for aClass in classes:\n",
    "    fileName = dataFrame[dataFrame.label == aClass].iloc[0].file\n",
    "    filePath = 'data/' + fileName\n",
    "    print (filePath)\n",
    "    w, rate = librosa.load(filePath, sr=SAMPLING_RATE)\n",
    "    samples[aClass] = mfcc(w[:rate], rate)\n",
    "    \n",
    "displayMfccExamples(samples)\n",
    "plt.show()"
   ]
  },
  {
   "cell_type": "code",
   "execution_count": 6,
   "metadata": {},
   "outputs": [
    {
     "name": "stderr",
     "output_type": "stream",
     "text": [
      "Using TensorFlow backend.\n",
      "1600it [00:06, 260.02it/s]\n"
     ]
    }
   ],
   "source": [
    "from keras.layers import Conv2D, MaxPooling2D, Dropout, Dense, Flatten\n",
    "from keras.models import Sequential\n",
    "from keras.utils import to_categorical\n",
    "from sklearn.utils.class_weight import compute_class_weight\n",
    "from tqdm import tqdm\n",
    "\n",
    "labels_count = len(classes)\n",
    "\n",
    "X = []\n",
    "y = []\n",
    "\n",
    "def getOneHotVectorViaClass(aClass):\n",
    "    arr = np.zeros(labels_count)\n",
    "    i = np.where(classes == aClass)\n",
    "    arr[i] = 1\n",
    "    return arr\n",
    "\n",
    "MFCC_MAX_LEN = 100 #2000\n",
    "MFCC_NUM = 10 # 20\n",
    "\n",
    "def wav2mfcc(wave, max_len=MFCC_MAX_LEN):\n",
    "    # mfcc = librosa.feature.mfcc(wave, sr=16000)\n",
    "    mfcc = librosa.feature.mfcc(wave, n_mfcc=MFCC_NUM, sr=SAMPLING_RATE)\n",
    "\n",
    "    # If maximum length exceeds mfcc lengths then pad the remaining ones\n",
    "    if (max_len > mfcc.shape[1]):\n",
    "        pad_width = max_len - mfcc.shape[1]\n",
    "        mfcc = np.pad(mfcc, pad_width=((0, 0), (0, pad_width)), mode='constant')\n",
    "\n",
    "    # Else cutoff the remaining parts\n",
    "    else:\n",
    "        mfcc = mfcc[:, :max_len]\n",
    "    \n",
    "    return mfcc\n",
    "\n",
    "def append_X_Y(aClass, wave):\n",
    "    y.append(getOneHotVectorViaClass(aClass))\n",
    "    audio_mfcc = wav2mfcc(wave)\n",
    "    X.append(audio_mfcc)\n",
    "    \n",
    "train_data = pd.concat([jackson_train, nicolas_train, yweweler_train, theo_train])\n",
    "\n",
    "for index, row in tqdm(train_data.iterrows()):\n",
    "    label = row[\"label\"]\n",
    "    wave, sr = librosa.load('data/' + row[\"file\"], mono=True, sr=SAMPLING_RATE)\n",
    "    wave = wave\n",
    "    \n",
    "    append_X_Y(label, wave)\n"
   ]
  },
  {
   "cell_type": "code",
   "execution_count": 7,
   "metadata": {},
   "outputs": [
    {
     "name": "stdout",
     "output_type": "stream",
     "text": [
      "X shape:  (1600, 10, 100)\n",
      "Length of y:  1600\n"
     ]
    },
    {
     "data": {
      "text/plain": [
       "True"
      ]
     },
     "execution_count": 7,
     "metadata": {},
     "output_type": "execute_result"
    }
   ],
   "source": [
    "X = np.array(X)\n",
    "y = np.array(y)\n",
    "print(\"X shape: \" , X.shape)\n",
    "print(\"Length of y: \", len(y))\n",
    "X.shape[0] == len(y)"
   ]
  },
  {
   "cell_type": "code",
   "execution_count": 8,
   "metadata": {},
   "outputs": [
    {
     "name": "stdout",
     "output_type": "stream",
     "text": [
      "[1. 0. 0. 0.]\n"
     ]
    }
   ],
   "source": [
    "# y_hot = to_categorical(y)\n",
    "y_hot = y\n",
    "print(y_hot[0])"
   ]
  },
  {
   "cell_type": "code",
   "execution_count": 9,
   "metadata": {},
   "outputs": [],
   "source": [
    "from sklearn.model_selection import train_test_split\n",
    "\n",
    "X_train, X_test, y_train, y_test = train_test_split(X, y_hot, test_size= 0.3, random_state=True, shuffle=True)"
   ]
  },
  {
   "cell_type": "code",
   "execution_count": 10,
   "metadata": {},
   "outputs": [
    {
     "name": "stdout",
     "output_type": "stream",
     "text": [
      "(1120, 10, 100)\n",
      "(480, 10, 100)\n"
     ]
    }
   ],
   "source": [
    "print(X_train.shape)\n",
    "print(X_test.shape)"
   ]
  },
  {
   "cell_type": "code",
   "execution_count": 11,
   "metadata": {},
   "outputs": [
    {
     "data": {
      "text/plain": [
       "array([[1., 0., 0., 0.],\n",
       "       [0., 0., 0., 1.],\n",
       "       [0., 1., 0., 0.],\n",
       "       ...,\n",
       "       [0., 0., 0., 1.],\n",
       "       [1., 0., 0., 0.],\n",
       "       [0., 0., 0., 1.]])"
      ]
     },
     "execution_count": 11,
     "metadata": {},
     "output_type": "execute_result"
    }
   ],
   "source": [
    "y_train"
   ]
  },
  {
   "cell_type": "code",
   "execution_count": 12,
   "metadata": {},
   "outputs": [],
   "source": [
    "# Feature dimension\n",
    "feature_dim_1 = MFCC_NUM\n",
    "# Second dimension of the feature is dim2\n",
    "feature_dim_2 = MFCC_MAX_LEN\n",
    "channel = 1\n",
    "epochs = 10\n",
    "batch_size = 50\n",
    "verbose = 1\n",
    "num_classes = len(classes)"
   ]
  },
  {
   "cell_type": "code",
   "execution_count": 13,
   "metadata": {},
   "outputs": [
    {
     "name": "stdout",
     "output_type": "stream",
     "text": [
      "(1120, 10, 100)\n"
     ]
    }
   ],
   "source": [
    "# Reshaping to perform 2D convolution\n",
    "print(X_train.shape)\n",
    "X_train = X_train.reshape(X_train.shape[0], feature_dim_1, feature_dim_2, channel)\n",
    "X_test = X_test.reshape(X_test.shape[0], feature_dim_1, feature_dim_2, channel)\n",
    "\n",
    "y_train_hot = y_train\n",
    "y_test_hot = y_test"
   ]
  },
  {
   "cell_type": "code",
   "execution_count": 14,
   "metadata": {},
   "outputs": [],
   "source": [
    "import keras\n",
    "from keras.models import Sequential\n",
    "from keras.layers import Dense, Dropout, LSTM, Flatten, Conv2D, MaxPooling2D\n",
    "from keras.utils import to_categorical\n",
    "from keras import optimizers\n",
    "\n",
    "def get_model():\n",
    "    model = Sequential()\n",
    "    model.add(Conv2D(16, kernel_size=(2, 2), activation='relu', strides=(1, 1), padding=\"same\", input_shape=(feature_dim_1, feature_dim_2, channel)))\n",
    "    model.add(Conv2D(32, kernel_size=(2, 2), activation='relu', strides=(1, 1), padding=\"same\"))\n",
    "    model.add(Conv2D(64, kernel_size=(2, 2), activation='relu', strides=(1, 1), padding=\"same\"))\n",
    "    model.add(Conv2D(128, kernel_size=(2, 2), activation='relu', strides=(1, 1), padding=\"same\"))\n",
    "    model.add(MaxPooling2D(pool_size=(2, 2)))\n",
    "    model.add(Dropout(0.5))\n",
    "    model.add(Flatten())\n",
    "    model.add(Dense(128, activation='relu'))\n",
    "    model.add(Dense(64, activation='relu'))\n",
    "    model.add(Dense(num_classes, activation='softmax'))\n",
    "    return model"
   ]
  },
  {
   "cell_type": "code",
   "execution_count": 15,
   "metadata": {
    "scrolled": false
   },
   "outputs": [
    {
     "name": "stdout",
     "output_type": "stream",
     "text": [
      "WARNING:tensorflow:From /Users/melih/anaconda3/envs/tensorflow_env/lib/python3.7/site-packages/keras/backend/tensorflow_backend.py:74: The name tf.get_default_graph is deprecated. Please use tf.compat.v1.get_default_graph instead.\n",
      "\n",
      "WARNING:tensorflow:From /Users/melih/anaconda3/envs/tensorflow_env/lib/python3.7/site-packages/keras/backend/tensorflow_backend.py:517: The name tf.placeholder is deprecated. Please use tf.compat.v1.placeholder instead.\n",
      "\n",
      "WARNING:tensorflow:From /Users/melih/anaconda3/envs/tensorflow_env/lib/python3.7/site-packages/keras/backend/tensorflow_backend.py:4138: The name tf.random_uniform is deprecated. Please use tf.random.uniform instead.\n",
      "\n",
      "WARNING:tensorflow:From /Users/melih/anaconda3/envs/tensorflow_env/lib/python3.7/site-packages/keras/backend/tensorflow_backend.py:3976: The name tf.nn.max_pool is deprecated. Please use tf.nn.max_pool2d instead.\n",
      "\n",
      "WARNING:tensorflow:From /Users/melih/anaconda3/envs/tensorflow_env/lib/python3.7/site-packages/keras/backend/tensorflow_backend.py:133: The name tf.placeholder_with_default is deprecated. Please use tf.compat.v1.placeholder_with_default instead.\n",
      "\n",
      "WARNING:tensorflow:From /Users/melih/anaconda3/envs/tensorflow_env/lib/python3.7/site-packages/keras/backend/tensorflow_backend.py:3445: calling dropout (from tensorflow.python.ops.nn_ops) with keep_prob is deprecated and will be removed in a future version.\n",
      "Instructions for updating:\n",
      "Please use `rate` instead of `keep_prob`. Rate should be set to `rate = 1 - keep_prob`.\n",
      "_________________________________________________________________\n",
      "Layer (type)                 Output Shape              Param #   \n",
      "=================================================================\n",
      "conv2d_1 (Conv2D)            (None, 10, 100, 16)       80        \n",
      "_________________________________________________________________\n",
      "conv2d_2 (Conv2D)            (None, 10, 100, 32)       2080      \n",
      "_________________________________________________________________\n",
      "conv2d_3 (Conv2D)            (None, 10, 100, 64)       8256      \n",
      "_________________________________________________________________\n",
      "conv2d_4 (Conv2D)            (None, 10, 100, 128)      32896     \n",
      "_________________________________________________________________\n",
      "max_pooling2d_1 (MaxPooling2 (None, 5, 50, 128)        0         \n",
      "_________________________________________________________________\n",
      "dropout_1 (Dropout)          (None, 5, 50, 128)        0         \n",
      "_________________________________________________________________\n",
      "flatten_1 (Flatten)          (None, 32000)             0         \n",
      "_________________________________________________________________\n",
      "dense_1 (Dense)              (None, 128)               4096128   \n",
      "_________________________________________________________________\n",
      "dense_2 (Dense)              (None, 64)                8256      \n",
      "_________________________________________________________________\n",
      "dense_3 (Dense)              (None, 4)                 260       \n",
      "=================================================================\n",
      "Total params: 4,147,956\n",
      "Trainable params: 4,147,956\n",
      "Non-trainable params: 0\n",
      "_________________________________________________________________\n",
      "WARNING:tensorflow:From /Users/melih/anaconda3/envs/tensorflow_env/lib/python3.7/site-packages/keras/optimizers.py:790: The name tf.train.Optimizer is deprecated. Please use tf.compat.v1.train.Optimizer instead.\n",
      "\n",
      "WARNING:tensorflow:From /Users/melih/anaconda3/envs/tensorflow_env/lib/python3.7/site-packages/keras/backend/tensorflow_backend.py:3295: The name tf.log is deprecated. Please use tf.math.log instead.\n",
      "\n",
      "WARNING:tensorflow:From /Users/melih/anaconda3/envs/tensorflow_env/lib/python3.7/site-packages/tensorflow_core/python/ops/math_grad.py:1424: where (from tensorflow.python.ops.array_ops) is deprecated and will be removed in a future version.\n",
      "Instructions for updating:\n",
      "Use tf.where in 2.0, which has the same broadcast rule as np.where\n",
      "WARNING:tensorflow:From /Users/melih/anaconda3/envs/tensorflow_env/lib/python3.7/site-packages/keras/backend/tensorflow_backend.py:986: The name tf.assign_add is deprecated. Please use tf.compat.v1.assign_add instead.\n",
      "\n",
      "WARNING:tensorflow:From /Users/melih/anaconda3/envs/tensorflow_env/lib/python3.7/site-packages/keras/backend/tensorflow_backend.py:973: The name tf.assign is deprecated. Please use tf.compat.v1.assign instead.\n",
      "\n",
      "WARNING:tensorflow:From /Users/melih/anaconda3/envs/tensorflow_env/lib/python3.7/site-packages/keras/backend/tensorflow_backend.py:2741: The name tf.Session is deprecated. Please use tf.compat.v1.Session instead.\n",
      "\n",
      "Train on 1120 samples, validate on 480 samples\n",
      "Epoch 1/10\n",
      "WARNING:tensorflow:From /Users/melih/anaconda3/envs/tensorflow_env/lib/python3.7/site-packages/keras/backend/tensorflow_backend.py:174: The name tf.get_default_session is deprecated. Please use tf.compat.v1.get_default_session instead.\n",
      "\n",
      "WARNING:tensorflow:From /Users/melih/anaconda3/envs/tensorflow_env/lib/python3.7/site-packages/keras/backend/tensorflow_backend.py:181: The name tf.ConfigProto is deprecated. Please use tf.compat.v1.ConfigProto instead.\n",
      "\n",
      "WARNING:tensorflow:From /Users/melih/anaconda3/envs/tensorflow_env/lib/python3.7/site-packages/keras/backend/tensorflow_backend.py:190: The name tf.global_variables is deprecated. Please use tf.compat.v1.global_variables instead.\n",
      "\n",
      "WARNING:tensorflow:From /Users/melih/anaconda3/envs/tensorflow_env/lib/python3.7/site-packages/keras/backend/tensorflow_backend.py:199: The name tf.is_variable_initialized is deprecated. Please use tf.compat.v1.is_variable_initialized instead.\n",
      "\n",
      "WARNING:tensorflow:From /Users/melih/anaconda3/envs/tensorflow_env/lib/python3.7/site-packages/keras/backend/tensorflow_backend.py:206: The name tf.variables_initializer is deprecated. Please use tf.compat.v1.variables_initializer instead.\n",
      "\n",
      "1120/1120 [==============================] - 12s 11ms/step - loss: 0.7846 - acc: 0.6830 - mean_squared_error: 0.1041 - val_loss: 0.3150 - val_acc: 0.8542 - val_mean_squared_error: 0.0468\n",
      "Epoch 2/10\n",
      "1120/1120 [==============================] - 8s 7ms/step - loss: 0.2086 - acc: 0.9205 - mean_squared_error: 0.0304 - val_loss: 0.1754 - val_acc: 0.9354 - val_mean_squared_error: 0.0233\n",
      "Epoch 3/10\n",
      "1120/1120 [==============================] - 8s 7ms/step - loss: 0.1313 - acc: 0.9482 - mean_squared_error: 0.0187 - val_loss: 0.0795 - val_acc: 0.9708 - val_mean_squared_error: 0.0109\n",
      "Epoch 4/10\n",
      "1120/1120 [==============================] - 8s 7ms/step - loss: 0.0997 - acc: 0.9598 - mean_squared_error: 0.0139 - val_loss: 0.0767 - val_acc: 0.9729 - val_mean_squared_error: 0.0108\n",
      "Epoch 5/10\n",
      "1120/1120 [==============================] - 8s 7ms/step - loss: 0.0827 - acc: 0.9661 - mean_squared_error: 0.0120 - val_loss: 0.1395 - val_acc: 0.9521 - val_mean_squared_error: 0.0173\n",
      "Epoch 6/10\n",
      "1120/1120 [==============================] - 8s 8ms/step - loss: 0.0717 - acc: 0.9795 - mean_squared_error: 0.0090 - val_loss: 0.0915 - val_acc: 0.9708 - val_mean_squared_error: 0.0120\n",
      "Epoch 7/10\n",
      "1120/1120 [==============================] - 9s 8ms/step - loss: 0.0508 - acc: 0.9821 - mean_squared_error: 0.0070 - val_loss: 0.1582 - val_acc: 0.9562 - val_mean_squared_error: 0.0171\n",
      "Epoch 8/10\n",
      "1120/1120 [==============================] - 9s 8ms/step - loss: 0.0305 - acc: 0.9857 - mean_squared_error: 0.0044 - val_loss: 0.0821 - val_acc: 0.9833 - val_mean_squared_error: 0.0072\n",
      "Epoch 9/10\n",
      "1120/1120 [==============================] - 9s 8ms/step - loss: 0.0382 - acc: 0.9875 - mean_squared_error: 0.0054 - val_loss: 0.0750 - val_acc: 0.9813 - val_mean_squared_error: 0.0086\n",
      "Epoch 10/10\n",
      "1120/1120 [==============================] - 9s 8ms/step - loss: 0.0307 - acc: 0.9848 - mean_squared_error: 0.0046 - val_loss: 0.0699 - val_acc: 0.9729 - val_mean_squared_error: 0.0102\n"
     ]
    }
   ],
   "source": [
    "model = get_model()\n",
    "\n",
    "model.summary()\n",
    "model.compile(loss='£',\n",
    "              optimizer='adam',\n",
    "              metrics=['acc','mse'])\n",
    "history = model.fit(X_train, y_train_hot, batch_size=batch_size, epochs=epochs, verbose=verbose, validation_data=(X_test, y_test_hot))"
   ]
  },
  {
   "cell_type": "code",
   "execution_count": 23,
   "metadata": {},
   "outputs": [
    {
     "data": {
      "image/png": "[encoded data removed]",
      "text/plain": [
       "<Figure size 432x288 with 1 Axes>"
      ]
     },
     "metadata": {
      "needs_background": "light"
     },
     "output_type": "display_data"
    },
    {
     "data": {
      "image/png": "[encoded data removed]",
      "text/plain": [
       "<Figure size 432x288 with 1 Axes>"
      ]
     },
     "metadata": {
      "needs_background": "light"
     },
     "output_type": "display_data"
    }
   ],
   "source": [
    "from matplotlib import pyplot\n",
    "\n",
    "pyplot.title('Model Acc')\n",
    "pyplot.ylabel('val_acc/acc')\n",
    "pyplot.xlabel('Epoch')\n",
    "pyplot.plot(history.history['acc'])\n",
    "pyplot.plot(history.history['val_acc'])\n",
    "pyplot.legend(['Train', 'Test'], loc='upper left')\n",
    "pyplot.show()\n",
    "\n",
    "pyplot.title('Model mean squared error')\n",
    "pyplot.ylabel('val_ms/mse')\n",
    "pyplot.xlabel('Epoch')\n",
    "pyplot.plot(history.history['mean_squared_error'])\n",
    "pyplot.plot(history.history['val_mean_squared_error'])\n",
    "pyplot.legend(['Train', 'Test'], loc='upper left')\n",
    "pyplot.show()\n"
   ]
  },
  {
   "cell_type": "code",
   "execution_count": 19,
   "metadata": {},
   "outputs": [
    {
     "name": "stderr",
     "output_type": "stream",
     "text": [
      "9it [00:00, 91.17it/s]"
     ]
    },
    {
     "name": "stdout",
     "output_type": "stream",
     "text": [
      "['jackson' 'nicolas' 'theo' 'yweweler']\n",
      "[2.7661482e-08 1.0000000e+00 3.9295456e-09 3.7104851e-08]\n",
      "[0.0, 1.0, 0.0, 0.0]\n",
      "Input:  nicolas/2_nicolas_49.wav  pred:  ['nicolas'] \n",
      "\n",
      "\n",
      "\n",
      "['jackson' 'nicolas' 'theo' 'yweweler']\n",
      "[9.9999046e-01 6.6763035e-09 9.4961424e-06 1.3819316e-12]\n",
      "[0.99, 0.0, 0.0, 0.0]\n",
      "Input:  jackson/0_jackson_3.wav  pred:  ['jackson'] \n",
      "\n",
      "\n",
      "\n",
      "['jackson' 'nicolas' 'theo' 'yweweler']\n",
      "[1.0000000e+00 7.4007250e-10 1.5887652e-08 2.8475426e-13]\n",
      "[1.0, 0.0, 0.0, 0.0]\n",
      "Input:  jackson/6_jackson_19.wav  pred:  ['jackson'] \n",
      "\n",
      "\n",
      "\n",
      "['jackson' 'nicolas' 'theo' 'yweweler']\n",
      "[1.3387573e-08 8.6863068e-09 2.1257490e-06 9.9999785e-01]\n",
      "[0.0, 0.0, 0.0, 0.99]\n",
      "Input:  yweweler/9_yweweler_25.wav  pred:  ['yweweler'] \n",
      "\n",
      "\n",
      "\n",
      "['jackson' 'nicolas' 'theo' 'yweweler']\n",
      "[1.7209439e-07 9.9999440e-01 5.1470869e-07 4.8966690e-06]\n",
      "[0.0, 0.99, 0.0, 0.0]\n",
      "Input:  nicolas/1_nicolas_32.wav  pred:  ['nicolas'] \n",
      "\n",
      "\n",
      "\n",
      "['jackson' 'nicolas' 'theo' 'yweweler']\n",
      "[4.0783343e-05 9.9985027e-01 6.6663473e-05 4.2268421e-05]\n",
      "[0.0, 0.99, 0.0, 0.0]\n",
      "Input:  nicolas/1_nicolas_31.wav  pred:  ['nicolas'] \n",
      "\n",
      "\n",
      "\n",
      "['jackson' 'nicolas' 'theo' 'yweweler']\n",
      "[4.0448565e-08 8.7656546e-05 5.0845958e-04 9.9940383e-01]\n",
      "[0.0, 0.0, 0.0, 0.99]\n",
      "Input:  yweweler/5_yweweler_13.wav  pred:  ['yweweler'] \n",
      "\n",
      "\n",
      "\n",
      "['jackson' 'nicolas' 'theo' 'yweweler']\n",
      "[9.9959165e-01 2.8028946e-06 4.0537500e-04 1.5554261e-07]\n",
      "[0.99, 0.0, 0.0, 0.0]\n",
      "Input:  jackson/1_jackson_46.wav  pred:  ['jackson'] \n",
      "\n",
      "\n",
      "\n",
      "['jackson' 'nicolas' 'theo' 'yweweler']\n",
      "[5.8050742e-10 8.0927270e-10 1.8764273e-06 9.9999809e-01]\n",
      "[0.0, 0.0, 0.0, 0.99]\n",
      "Input:  yweweler/0_yweweler_48.wav  pred:  ['yweweler'] \n",
      "\n",
      "\n",
      "\n"
     ]
    },
    {
     "name": "stderr",
     "output_type": "stream",
     "text": [
      "\n"
     ]
    }
   ],
   "source": [
    "combDf = pd.concat([nicolas_test.head(3), jackson_test.head(3), yweweler_test.head(3)])\n",
    "combDf = combDf.sample(frac=1)\n",
    "#print(combDf)\n",
    "\n",
    "for index, row in tqdm(combDf.iterrows()):\n",
    "    wave, sr = librosa.load('data/' + row[\"file\"], mono=True, sr=SAMPLING_RATE)\n",
    "    #wave = wave[::3]\n",
    "    \n",
    "    mfcc = wav2mfcc(wave)\n",
    "    X_test = mfcc.reshape(1, feature_dim_1, feature_dim_2, channel)\n",
    "    preds = model.predict(X_test)[0]\n",
    "    \n",
    "    targetIndex=np.where(preds == np.amax(preds))[0]\n",
    "    print(classes)\n",
    "    print(preds)\n",
    "    tmpPreds = map(lambda pred: round(int(pred*100)/float(100), 4), preds)\n",
    "    print(list(tmpPreds))\n",
    "    print('Input: ', row['file'], ' pred: ', classes[targetIndex], '\\n\\n\\n')"
   ]
  }
 ],
 "metadata": {
  "kernelspec": {
   "display_name": "tensorflow",
   "language": "python",
   "name": "tensorflow"
  },
  "language_info": {
   "codemirror_mode": {
    "name": "ipython",
    "version": 3
   },
   "file_extension": ".py",
   "mimetype": "text/x-python",
   "name": "python",
   "nbconvert_exporter": "python",
   "pygments_lexer": "ipython3",
   "version": "3.7.5"
  }
 },
 "nbformat": 4,
 "nbformat_minor": 2
}
