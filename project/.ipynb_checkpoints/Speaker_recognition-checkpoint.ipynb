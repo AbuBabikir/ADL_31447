{
 "cells": [
  {
   "cell_type": "markdown",
   "metadata": {},
   "source": [
    "# Read and preprocess audio files\n",
    "## Dataset\n",
    "https://github.com/Jakobovski/free-spoken-digit-dataset\n",
    "\n",
    "## Speech processing\n",
    "https://haythamfayek.com/2016/04/21/speech-processing-for-machine-learning.html\n",
    "        "
   ]
  },
  {
   "cell_type": "code",
   "execution_count": 1,
   "metadata": {},
   "outputs": [],
   "source": [
    "import tensorflow as tf\n",
    "import os\n",
    "import numpy as np\n",
    "import pandas as pd"
   ]
  },
  {
   "cell_type": "code",
   "execution_count": 2,
   "metadata": {},
   "outputs": [],
   "source": [
    "curr_dir = os.getcwd()\n",
    "\n",
    "data_output_dir = curr_dir + '/mfcc_output/'\n",
    "\n",
    "dataFrame = pd.read_csv('data/data.csv')\n",
    "\n",
    "jackson_data = dataFrame.loc[dataFrame.label == 'jackson']\n",
    "nicolas_data = dataFrame.loc[dataFrame.label == 'nicolas']\n",
    "theo_data = dataFrame.loc[dataFrame.label == 'theo']\n",
    "yweweler_data = dataFrame.loc[dataFrame.label == 'yweweler']\n",
    "\n",
    "def preprocess(data):\n",
    "    \"\"\"Splits data to train and test set\n",
    "\n",
    "    Parameters:\n",
    "    data (string): files {label}_{name}_{digit}.wav\n",
    "\n",
    "    Returns:\n",
    "    tuple: returns test and train data\n",
    "\n",
    "    \"\"\"\n",
    "    data = data.reindex(np.random.permutation(data.index))\n",
    "    train, test = (data.head(400), data.tail(100))\n",
    "    \n",
    "    \n",
    "    return train, test\n"
   ]
  },
  {
   "cell_type": "code",
   "execution_count": 3,
   "metadata": {},
   "outputs": [],
   "source": [
    "# Split up data\n",
    "\n",
    "jackson_train, jackson_test=preprocess(jackson_data)\n",
    "nicolas_train, nicolas_test=preprocess(nicolas_data)\n",
    "theo_train, theo_test=preprocess(theo_data)\n",
    "yweweler_train, yweweler_test=preprocess(yweweler_data)"
   ]
  },
  {
   "cell_type": "code",
   "execution_count": 4,
   "metadata": {},
   "outputs": [
    {
     "name": "stdout",
     "output_type": "stream",
     "text": [
      "file     500\n",
      "label    500\n",
      "dtype: int64\n",
      "                       file    label\n",
      "0   jackson/0_jackson_0.wav  jackson\n",
      "1   jackson/0_jackson_1.wav  jackson\n",
      "2  jackson/0_jackson_10.wav  jackson\n",
      "================================================\n",
      "file     500\n",
      "label    500\n",
      "dtype: int64\n",
      "                         file    label\n",
      "500   nicolas/0_nicolas_0.wav  nicolas\n",
      "501   nicolas/0_nicolas_1.wav  nicolas\n",
      "502  nicolas/0_nicolas_10.wav  nicolas\n",
      "================================================\n",
      "file     500\n",
      "label    500\n",
      "dtype: int64\n",
      "                    file label\n",
      "1000   theo/0_theo_0.wav  theo\n",
      "1001   theo/0_theo_1.wav  theo\n",
      "1002  theo/0_theo_10.wav  theo\n",
      "================================================\n",
      "file     500\n",
      "label    500\n",
      "dtype: int64\n",
      "                            file     label\n",
      "1500   yweweler/0_yweweler_0.wav  yweweler\n",
      "1501   yweweler/0_yweweler_1.wav  yweweler\n",
      "1502  yweweler/0_yweweler_10.wav  yweweler\n"
     ]
    }
   ],
   "source": [
    "print(jackson_data.count())\n",
    "print(jackson_data.head(3))\n",
    "print(\"================================================\")\n",
    "print(nicolas_data.count())\n",
    "print(nicolas_data.head(3))\n",
    "print(\"================================================\")\n",
    "print(theo_data.count())\n",
    "print(theo_data.head(3))\n",
    "print(\"================================================\")\n",
    "print(yweweler_data.count())\n",
    "print(yweweler_data.head(3))"
   ]
  },
  {
   "cell_type": "code",
   "execution_count": 5,
   "metadata": {},
   "outputs": [
    {
     "name": "stdout",
     "output_type": "stream",
     "text": [
      "data/jackson/0_jackson_0.wav\n",
      "data/nicolas/0_nicolas_0.wav\n",
      "data/theo/0_theo_0.wav\n",
      "data/yweweler/0_yweweler_0.wav\n"
     ]
    },
    {
     "data": {
      "image/png": "[encoded data removed]",
      "text/plain": [
       "<Figure size 2880x720 with 4 Axes>"
      ]
     },
     "metadata": {
      "needs_background": "light"
     },
     "output_type": "display_data"
    }
   ],
   "source": [
    "from python_speech_features import mfcc\n",
    "import wave\n",
    "import librosa.display\n",
    "import matplotlib.pyplot as plt\n",
    "\n",
    "def getFrameRate():\n",
    "    frame_rate=0\n",
    "    #prev_frame_rate=-1\n",
    "    #curr_frame_rate=0\n",
    "    for file_name in dataFrame['file']:\n",
    "        with wave.open('data/' + file_name, \"rb\") as wave_file:\n",
    "            frame_rate = wave_file.getframerate()\n",
    "            break\n",
    "        #if prev_frame_rate < 0:\n",
    "        #    continue\n",
    "        #if prev_frame_rate != curr_frame_rate:\n",
    "        #    raise Exception(\"Invalid frame rate\")\n",
    "        #    \n",
    "        #if frame_rate < curr_frame_rate:\n",
    "        #    frame_rate = curr_frame_rate\n",
    "    \n",
    "    return frame_rate\n",
    "\n",
    "def displayMfccExamples(mfcc_samples):\n",
    "    fig, axes = plt.subplots(nrows=2, ncols=2, sharex=False, sharey=True,figsize=(40,10))\n",
    "    i=0\n",
    "    for x in range(2):\n",
    "        for y in range(2):\n",
    "            axes[x,y].set_title(list(mfcc_samples.keys())[i])\n",
    "            axes[x,y].imshow(list(mfcc_samples.values())[i],\n",
    "                            cmap='hot', interpolation='nearest')\n",
    "            axes[x,y].get_xaxis().set_visible(False)\n",
    "            axes[x,y].get_yaxis().set_visible(False)\n",
    "            i += 1\n",
    "            \n",
    "    return\n",
    "    \n",
    "SAMPLING_RATE = getFrameRate()\n",
    "classes = dataFrame.label.unique()\n",
    "samples = {}\n",
    "\n",
    "for aClass in classes:\n",
    "    fileName = dataFrame[dataFrame.label == aClass].iloc[0].file\n",
    "    filePath = 'data/' + fileName\n",
    "    print (filePath)\n",
    "    w, rate = librosa.load(filePath, sr=SAMPLING_RATE)\n",
    "    samples[aClass] = mfcc(w[:rate], rate)\n",
    "    \n",
    "displayMfccExamples(samples)\n",
    "plt.show()"
   ]
  },
  {
   "cell_type": "code",
   "execution_count": 6,
   "metadata": {},
   "outputs": [
    {
     "name": "stderr",
     "output_type": "stream",
     "text": [
      "Using TensorFlow backend.\n",
      "1600it [00:15, 104.09it/s]\n"
     ]
    }
   ],
   "source": [
    "from keras.layers import Conv2D, MaxPooling2D, Dropout, Dense, Flatten\n",
    "from keras.models import Sequential\n",
    "from keras.utils import to_categorical\n",
    "from sklearn.utils.class_weight import compute_class_weight\n",
    "from tqdm import tqdm\n",
    "\n",
    "labels_count = len(classes)\n",
    "\n",
    "X = []\n",
    "y = []\n",
    "\n",
    "def getOneHotVectorViaClass(aClass):\n",
    "    arr = np.zeros(labels_count)\n",
    "    i = np.where(classes == aClass)\n",
    "    arr[i] = 1\n",
    "    return arr\n",
    "\n",
    "MFCC_MAX_LEN = 100 #2000\n",
    "MFCC_NUM = 10 # 20\n",
    "\n",
    "def wav2mfcc(wave, max_len=MFCC_MAX_LEN):\n",
    "    # mfcc = librosa.feature.mfcc(wave, sr=16000)\n",
    "    mfcc = librosa.feature.mfcc(wave, n_mfcc=MFCC_NUM, sr=SAMPLING_RATE)\n",
    "\n",
    "    # If maximum length exceeds mfcc lengths then pad the remaining ones\n",
    "    if (max_len > mfcc.shape[1]):\n",
    "        pad_width = max_len - mfcc.shape[1]\n",
    "        mfcc = np.pad(mfcc, pad_width=((0, 0), (0, pad_width)), mode='constant')\n",
    "\n",
    "    # Else cutoff the remaining parts\n",
    "    else:\n",
    "        mfcc = mfcc[:, :max_len]\n",
    "    \n",
    "    return mfcc\n",
    "\n",
    "def append_X_Y(aClass, wave):\n",
    "    y.append(getOneHotVectorViaClass(aClass))\n",
    "    audio_mfcc = wav2mfcc(wave)\n",
    "    X.append(audio_mfcc)\n",
    "    \n",
    "train_data = pd.concat([jackson_train, nicolas_train, yweweler_train, theo_train])\n",
    "\n",
    "for index, row in tqdm(train_data.iterrows()):\n",
    "    label = row[\"label\"]\n",
    "    wave, sr = librosa.load('data/' + row[\"file\"], mono=True, sr=SAMPLING_RATE)\n",
    "    wave = wave\n",
    "    \n",
    "    append_X_Y(label, wave)\n"
   ]
  },
  {
   "cell_type": "code",
   "execution_count": 7,
   "metadata": {},
   "outputs": [
    {
     "name": "stdout",
     "output_type": "stream",
     "text": [
      "X shape:  (1600, 10, 100)\n",
      "Length of y:  1600\n"
     ]
    },
    {
     "data": {
      "text/plain": [
       "True"
      ]
     },
     "execution_count": 7,
     "metadata": {},
     "output_type": "execute_result"
    }
   ],
   "source": [
    "X = np.array(X)\n",
    "y = np.array(y)\n",
    "print(\"X shape: \" , X.shape)\n",
    "print(\"Length of y: \", len(y))\n",
    "X.shape[0] == len(y)"
   ]
  },
  {
   "cell_type": "code",
   "execution_count": 8,
   "metadata": {},
   "outputs": [
    {
     "name": "stdout",
     "output_type": "stream",
     "text": [
      "[1. 0. 0. 0.]\n"
     ]
    }
   ],
   "source": [
    "# y_hot = to_categorical(y)\n",
    "y_hot = y\n",
    "print(y_hot[0])"
   ]
  },
  {
   "cell_type": "code",
   "execution_count": 9,
   "metadata": {},
   "outputs": [],
   "source": [
    "from sklearn.model_selection import train_test_split\n",
    "\n",
    "X_train, X_test, y_train, y_test = train_test_split(X, y_hot, test_size= 0.3, random_state=True, shuffle=True)"
   ]
  },
  {
   "cell_type": "code",
   "execution_count": 10,
   "metadata": {},
   "outputs": [
    {
     "name": "stdout",
     "output_type": "stream",
     "text": [
      "(1120, 10, 100)\n",
      "(480, 10, 100)\n"
     ]
    }
   ],
   "source": [
    "print(X_train.shape)\n",
    "print(X_test.shape)"
   ]
  },
  {
   "cell_type": "code",
   "execution_count": 11,
   "metadata": {},
   "outputs": [
    {
     "data": {
      "text/plain": [
       "array([[1., 0., 0., 0.],\n",
       "       [0., 0., 0., 1.],\n",
       "       [0., 1., 0., 0.],\n",
       "       ...,\n",
       "       [0., 0., 0., 1.],\n",
       "       [1., 0., 0., 0.],\n",
       "       [0., 0., 0., 1.]])"
      ]
     },
     "execution_count": 11,
     "metadata": {},
     "output_type": "execute_result"
    }
   ],
   "source": [
    "y_train"
   ]
  },
  {
   "cell_type": "code",
   "execution_count": 12,
   "metadata": {},
   "outputs": [],
   "source": [
    "# Feature dimension\n",
    "feature_dim_1 = MFCC_NUM\n",
    "# Second dimension of the feature is dim2\n",
    "feature_dim_2 = MFCC_MAX_LEN\n",
    "channel = 1\n",
    "epochs = 10\n",
    "batch_size = 50\n",
    "verbose = 1\n",
    "num_classes = len(classes)"
   ]
  },
  {
   "cell_type": "code",
   "execution_count": 13,
   "metadata": {},
   "outputs": [
    {
     "name": "stdout",
     "output_type": "stream",
     "text": [
      "(1120, 10, 100)\n"
     ]
    }
   ],
   "source": [
    "# Reshaping to perform 2D convolution\n",
    "print(X_train.shape)\n",
    "X_train = X_train.reshape(X_train.shape[0], feature_dim_1, feature_dim_2, channel)\n",
    "X_test = X_test.reshape(X_test.shape[0], feature_dim_1, feature_dim_2, channel)\n",
    "\n",
    "y_train_hot = y_train\n",
    "y_test_hot = y_test"
   ]
  },
  {
   "cell_type": "code",
   "execution_count": 14,
   "metadata": {},
   "outputs": [],
   "source": [
    "import keras\n",
    "from keras.models import Sequential\n",
    "from keras.layers import Dense, Dropout, LSTM, Flatten, Conv2D, MaxPooling2D\n",
    "from keras.utils import to_categorical\n",
    "from keras import optimizers\n",
    "\n",
    "def get_model():\n",
    "    model = Sequential()\n",
    "    model.add(Conv2D(16, kernel_size=(2, 2), activation='relu', strides=(1, 1), padding=\"same\", input_shape=(feature_dim_1, feature_dim_2, channel)))\n",
    "    model.add(Conv2D(32, kernel_size=(2, 2), activation='relu', strides=(1, 1), padding=\"same\"))\n",
    "    model.add(Conv2D(64, kernel_size=(2, 2), activation='relu', strides=(1, 1), padding=\"same\"))\n",
    "    model.add(Conv2D(128, kernel_size=(2, 2), activation='relu', strides=(1, 1), padding=\"same\"))\n",
    "    model.add(MaxPooling2D(pool_size=(2, 2)))\n",
    "    model.add(Dropout(0.5))\n",
    "    model.add(Flatten())\n",
    "    model.add(Dense(128, activation='relu'))\n",
    "    model.add(Dense(64, activation='relu'))\n",
    "    model.add(Dense(num_classes, activation='softmax'))\n",
    "    return model"
   ]
  },
  {
   "cell_type": "code",
   "execution_count": 18,
   "metadata": {},
   "outputs": [
    {
     "name": "stdout",
     "output_type": "stream",
     "text": [
      "_________________________________________________________________\n",
      "Layer (type)                 Output Shape              Param #   \n",
      "=================================================================\n",
      "conv2d_9 (Conv2D)            (None, 10, 100, 16)       80        \n",
      "_________________________________________________________________\n",
      "conv2d_10 (Conv2D)           (None, 10, 100, 32)       2080      \n",
      "_________________________________________________________________\n",
      "conv2d_11 (Conv2D)           (None, 10, 100, 64)       8256      \n",
      "_________________________________________________________________\n",
      "conv2d_12 (Conv2D)           (None, 10, 100, 128)      32896     \n",
      "_________________________________________________________________\n",
      "max_pooling2d_3 (MaxPooling2 (None, 5, 50, 128)        0         \n",
      "_________________________________________________________________\n",
      "dropout_3 (Dropout)          (None, 5, 50, 128)        0         \n",
      "_________________________________________________________________\n",
      "flatten_3 (Flatten)          (None, 32000)             0         \n",
      "_________________________________________________________________\n",
      "dense_7 (Dense)              (None, 128)               4096128   \n",
      "_________________________________________________________________\n",
      "dense_8 (Dense)              (None, 64)                8256      \n",
      "_________________________________________________________________\n",
      "dense_9 (Dense)              (None, 4)                 260       \n",
      "=================================================================\n",
      "Total params: 4,147,956\n",
      "Trainable params: 4,147,956\n",
      "Non-trainable params: 0\n",
      "_________________________________________________________________\n",
      "Train on 1120 samples, validate on 480 samples\n",
      "Epoch 1/10\n",
      "1120/1120 [==============================] - 15s 13ms/step - loss: 1.3097 - acc: 0.5232 - mean_squared_error: 0.1589 - val_loss: 0.7031 - val_acc: 0.7708 - val_mean_squared_error: 0.0913\n",
      "Epoch 2/10\n",
      "1120/1120 [==============================] - 13s 11ms/step - loss: 0.3885 - acc: 0.8661 - mean_squared_error: 0.0516 - val_loss: 0.2337 - val_acc: 0.9208 - val_mean_squared_error: 0.0315\n",
      "Epoch 3/10\n",
      "1120/1120 [==============================] - 11s 10ms/step - loss: 0.1755 - acc: 0.9339 - mean_squared_error: 0.0241 - val_loss: 0.3105 - val_acc: 0.9104 - val_mean_squared_error: 0.0342\n",
      "Epoch 4/10\n",
      "1120/1120 [==============================] - 11s 10ms/step - loss: 0.1521 - acc: 0.9402 - mean_squared_error: 0.0218 - val_loss: 0.1932 - val_acc: 0.9437 - val_mean_squared_error: 0.0226\n",
      "Epoch 5/10\n",
      "1120/1120 [==============================] - 11s 9ms/step - loss: 0.1232 - acc: 0.9527 - mean_squared_error: 0.0166 - val_loss: 0.1807 - val_acc: 0.9458 - val_mean_squared_error: 0.0193\n",
      "Epoch 6/10\n",
      "1120/1120 [==============================] - 11s 9ms/step - loss: 0.0828 - acc: 0.9750 - mean_squared_error: 0.0105 - val_loss: 0.1951 - val_acc: 0.9562 - val_mean_squared_error: 0.0193\n",
      "Epoch 7/10\n",
      "1120/1120 [==============================] - 11s 10ms/step - loss: 0.0942 - acc: 0.9652 - mean_squared_error: 0.0129 - val_loss: 0.2127 - val_acc: 0.9604 - val_mean_squared_error: 0.0183\n",
      "Epoch 8/10\n",
      "1120/1120 [==============================] - 13s 12ms/step - loss: 0.0393 - acc: 0.9875 - mean_squared_error: 0.0048 - val_loss: 0.1730 - val_acc: 0.9667 - val_mean_squared_error: 0.0153\n",
      "Epoch 9/10\n",
      "1120/1120 [==============================] - 11s 9ms/step - loss: 0.0448 - acc: 0.9812 - mean_squared_error: 0.0066 - val_loss: 0.1604 - val_acc: 0.9646 - val_mean_squared_error: 0.0147\n",
      "Epoch 10/10\n",
      "1120/1120 [==============================] - 12s 11ms/step - loss: 0.0436 - acc: 0.9875 - mean_squared_error: 0.0056 - val_loss: 0.2077 - val_acc: 0.9542 - val_mean_squared_error: 0.0215\n"
     ]
    }
   ],
   "source": [
    "model = get_model()\n",
    "\n",
    "model.summary()\n",
    "model.compile(loss='categorical_crossentropy',\n",
    "              optimizer='adam',\n",
    "              metrics=['acc','mse'])\n",
    "history = model.fit(X_train, y_train_hot, batch_size=batch_size, epochs=epochs, verbose=verbose, validation_data=(X_test, y_test_hot))"
   ]
  },
  {
   "cell_type": "code",
   "execution_count": 19,
   "metadata": {},
   "outputs": [
    {
     "data": {
      "image/png": "[encoded data removed]",
      "text/plain": [
       "<Figure size 432x288 with 1 Axes>"
      ]
     },
     "metadata": {
      "needs_background": "light"
     },
     "output_type": "display_data"
    },
    {
     "data": {
      "image/png": "[encoded data removed]",
      "text/plain": [
       "<Figure size 432x288 with 1 Axes>"
      ]
     },
     "metadata": {
      "needs_background": "light"
     },
     "output_type": "display_data"
    },
    {
     "data": {
      "image/png": "[encoded data removed]",
      "text/plain": [
       "<Figure size 432x288 with 1 Axes>"
      ]
     },
     "metadata": {
      "needs_background": "light"
     },
     "output_type": "display_data"
    },
    {
     "data": {
      "image/png": "[encoded data removed]",
      "text/plain": [
       "<Figure size 432x288 with 1 Axes>"
      ]
     },
     "metadata": {
      "needs_background": "light"
     },
     "output_type": "display_data"
    }
   ],
   "source": [
    "from matplotlib import pyplot\n",
    "\n",
    "pyplot.title('Model Acc')\n",
    "pyplot.ylabel('Acc')\n",
    "pyplot.xlabel('Epoch')\n",
    "pyplot.legend(['Train', 'Test'], loc='upper left')\n",
    "pyplot.plot(history.history['acc'])\n",
    "pyplot.show()\n",
    "\n",
    "pyplot.title('Model val_acc')\n",
    "pyplot.ylabel('Acc')\n",
    "pyplot.xlabel('Epoch')\n",
    "pyplot.legend(['Train', 'Test'], loc='upper left')\n",
    "pyplot.plot(history.history['val_acc'])\n",
    "pyplot.show()\n",
    "\n",
    "pyplot.title('Model mean_squared_error')\n",
    "pyplot.ylabel('mean_squared_error')\n",
    "pyplot.xlabel('Epoch')\n",
    "pyplot.legend(['Train', 'Test'], loc='upper left')\n",
    "pyplot.plot(history.history['mean_squared_error'])\n",
    "pyplot.show()\n",
    "pyplot.title('Model val_mean_squared_error')\n",
    "pyplot.ylabel('val_mean_squared_error')\n",
    "pyplot.xlabel('Epoch')\n",
    "pyplot.legend(['Train', 'Test'], loc='upper left')\n",
    "pyplot.plot(history.history['val_mean_squared_error'])\n",
    "pyplot.show()"
   ]
  },
  {
   "cell_type": "code",
   "execution_count": 20,
   "metadata": {},
   "outputs": [
    {
     "name": "stderr",
     "output_type": "stream",
     "text": [
      "9it [00:00, 18.39it/s]"
     ]
    },
    {
     "name": "stdout",
     "output_type": "stream",
     "text": [
      "['jackson' 'nicolas' 'theo' 'yweweler']\n",
      "[0.01503939 0.8657657  0.08854692 0.030648  ]\n",
      "[0.01, 0.86, 0.08, 0.03]\n",
      "Input:  nicolas/6_nicolas_4.wav  pred:  ['nicolas'] \n",
      "\n",
      "\n",
      "\n",
      "['jackson' 'nicolas' 'theo' 'yweweler']\n",
      "[9.99999762e-01 7.23991747e-08 7.76187790e-08 1.14451136e-10]\n",
      "[0.99, 0.0, 0.0, 0.0]\n",
      "Input:  jackson/3_jackson_31.wav  pred:  ['jackson'] \n",
      "\n",
      "\n",
      "\n",
      "['jackson' 'nicolas' 'theo' 'yweweler']\n",
      "[2.7549054e-04 9.9967432e-01 4.2591142e-05 7.6536462e-06]\n",
      "[0.0, 0.99, 0.0, 0.0]\n",
      "Input:  nicolas/4_nicolas_38.wav  pred:  ['nicolas'] \n",
      "\n",
      "\n",
      "\n",
      "['jackson' 'nicolas' 'theo' 'yweweler']\n",
      "[6.6999019e-05 9.9987483e-01 4.0994059e-05 1.7142615e-05]\n",
      "[0.0, 0.99, 0.0, 0.0]\n",
      "Input:  nicolas/2_nicolas_3.wav  pred:  ['nicolas'] \n",
      "\n",
      "\n",
      "\n",
      "['jackson' 'nicolas' 'theo' 'yweweler']\n",
      "[9.9999964e-01 2.6517921e-09 4.1141857e-07 5.6690550e-09]\n",
      "[0.99, 0.0, 0.0, 0.0]\n",
      "Input:  jackson/3_jackson_48.wav  pred:  ['jackson'] \n",
      "\n",
      "\n",
      "\n",
      "['jackson' 'nicolas' 'theo' 'yweweler']\n",
      "[6.9182545e-07 5.4363244e-07 8.8185829e-05 9.9991047e-01]\n",
      "[0.0, 0.0, 0.0, 0.99]\n",
      "Input:  yweweler/9_yweweler_5.wav  pred:  ['yweweler'] \n",
      "\n",
      "\n",
      "\n",
      "['jackson' 'nicolas' 'theo' 'yweweler']\n",
      "[1.3489941e-06 3.7799416e-07 2.4025595e-04 9.9975806e-01]\n",
      "[0.0, 0.0, 0.0, 0.99]\n",
      "Input:  yweweler/9_yweweler_8.wav  pred:  ['yweweler'] \n",
      "\n",
      "\n",
      "\n",
      "['jackson' 'nicolas' 'theo' 'yweweler']\n",
      "[9.9999833e-01 1.9844812e-09 1.6776116e-06 1.4776828e-10]\n",
      "[0.99, 0.0, 0.0, 0.0]\n",
      "Input:  jackson/5_jackson_30.wav  pred:  ['jackson'] \n",
      "\n",
      "\n",
      "\n",
      "['jackson' 'nicolas' 'theo' 'yweweler']\n",
      "[5.4434245e-06 4.9953076e-07 4.2195932e-04 9.9957210e-01]\n",
      "[0.0, 0.0, 0.0, 0.99]\n",
      "Input:  yweweler/9_yweweler_37.wav  pred:  ['yweweler'] \n",
      "\n",
      "\n",
      "\n"
     ]
    },
    {
     "name": "stderr",
     "output_type": "stream",
     "text": [
      "\n"
     ]
    }
   ],
   "source": [
    "combDf = pd.concat([nicolas_test.head(3), jackson_test.head(3), yweweler_test.head(3)])\n",
    "combDf = combDf.sample(frac=1)\n",
    "#print(combDf)\n",
    "\n",
    "for index, row in tqdm(combDf.iterrows()):\n",
    "    wave, sr = librosa.load('data/' + row[\"file\"], mono=True, sr=SAMPLING_RATE)\n",
    "    #wave = wave[::3]\n",
    "    \n",
    "    mfcc = wav2mfcc(wave)\n",
    "    X_test = mfcc.reshape(1, feature_dim_1, feature_dim_2, channel)\n",
    "    preds = model.predict(X_test)[0]\n",
    "    \n",
    "    targetIndex=np.where(preds == np.amax(preds))[0]\n",
    "    print(classes)\n",
    "    print(preds)\n",
    "    tmpPreds = map(lambda pred: round(int(pred*100)/float(100), 4), preds)\n",
    "    print(list(tmpPreds))\n",
    "    print('Input: ', row['file'], ' pred: ', classes[targetIndex], '\\n\\n\\n')"
   ]
  },
  {
   "cell_type": "code",
   "execution_count": 17,
   "metadata": {},
   "outputs": [
    {
     "name": "stdout",
     "output_type": "stream",
     "text": [
      "(1, 10, 100, 1)\n"
     ]
    },
    {
     "ename": "ValueError",
     "evalue": "Input arrays should have the same number of samples as target arrays. Found 1 input samples and 480 target samples.",
     "output_type": "error",
     "traceback": [
      "\u001b[0;31m---------------------------------------------------------------------------\u001b[0m",
      "\u001b[0;31mValueError\u001b[0m                                Traceback (most recent call last)",
      "\u001b[0;32m<ipython-input-17-4f9931e2e414>\u001b[0m in \u001b[0;36m<module>\u001b[0;34m\u001b[0m\n\u001b[1;32m      1\u001b[0m \u001b[0mprint\u001b[0m\u001b[0;34m(\u001b[0m\u001b[0mX_test\u001b[0m\u001b[0;34m.\u001b[0m\u001b[0mshape\u001b[0m\u001b[0;34m)\u001b[0m\u001b[0;34m\u001b[0m\u001b[0;34m\u001b[0m\u001b[0m\n\u001b[1;32m      2\u001b[0m \u001b[0mX_test\u001b[0m \u001b[0;34m=\u001b[0m \u001b[0mX_test\u001b[0m\u001b[0;34m.\u001b[0m\u001b[0mreshape\u001b[0m\u001b[0;34m(\u001b[0m\u001b[0mX_test\u001b[0m\u001b[0;34m.\u001b[0m\u001b[0mshape\u001b[0m\u001b[0;34m[\u001b[0m\u001b[0;36m0\u001b[0m\u001b[0;34m]\u001b[0m\u001b[0;34m,\u001b[0m \u001b[0mfeature_dim_1\u001b[0m\u001b[0;34m,\u001b[0m \u001b[0mfeature_dim_2\u001b[0m\u001b[0;34m,\u001b[0m \u001b[0mchannel\u001b[0m\u001b[0;34m)\u001b[0m\u001b[0;34m\u001b[0m\u001b[0;34m\u001b[0m\u001b[0m\n\u001b[0;32m----> 3\u001b[0;31m \u001b[0md\u001b[0m \u001b[0;34m=\u001b[0m \u001b[0mmodel\u001b[0m\u001b[0;34m.\u001b[0m\u001b[0mevaluate\u001b[0m\u001b[0;34m(\u001b[0m\u001b[0mx\u001b[0m\u001b[0;34m=\u001b[0m\u001b[0mX_test\u001b[0m\u001b[0;34m,\u001b[0m \u001b[0my\u001b[0m\u001b[0;34m=\u001b[0m\u001b[0my_test_hot\u001b[0m\u001b[0;34m)\u001b[0m\u001b[0;34m\u001b[0m\u001b[0;34m\u001b[0m\u001b[0m\n\u001b[0m\u001b[1;32m      4\u001b[0m \u001b[0mprint\u001b[0m\u001b[0;34m(\u001b[0m\u001b[0md\u001b[0m\u001b[0;34m)\u001b[0m\u001b[0;34m\u001b[0m\u001b[0;34m\u001b[0m\u001b[0m\n\u001b[1;32m      5\u001b[0m \u001b[0;34m\u001b[0m\u001b[0m\n",
      "\u001b[0;32m~/anaconda3/envs/tensorflow_env/lib/python3.7/site-packages/keras/engine/training.py\u001b[0m in \u001b[0;36mevaluate\u001b[0;34m(self, x, y, batch_size, verbose, sample_weight, steps)\u001b[0m\n\u001b[1;32m   1100\u001b[0m             \u001b[0mx\u001b[0m\u001b[0;34m,\u001b[0m \u001b[0my\u001b[0m\u001b[0;34m,\u001b[0m\u001b[0;34m\u001b[0m\u001b[0;34m\u001b[0m\u001b[0m\n\u001b[1;32m   1101\u001b[0m             \u001b[0msample_weight\u001b[0m\u001b[0;34m=\u001b[0m\u001b[0msample_weight\u001b[0m\u001b[0;34m,\u001b[0m\u001b[0;34m\u001b[0m\u001b[0;34m\u001b[0m\u001b[0m\n\u001b[0;32m-> 1102\u001b[0;31m             batch_size=batch_size)\n\u001b[0m\u001b[1;32m   1103\u001b[0m         \u001b[0;31m# Prepare inputs, delegate logic to `test_loop`.\u001b[0m\u001b[0;34m\u001b[0m\u001b[0;34m\u001b[0m\u001b[0;34m\u001b[0m\u001b[0m\n\u001b[1;32m   1104\u001b[0m         \u001b[0;32mif\u001b[0m \u001b[0mself\u001b[0m\u001b[0;34m.\u001b[0m\u001b[0m_uses_dynamic_learning_phase\u001b[0m\u001b[0;34m(\u001b[0m\u001b[0;34m)\u001b[0m\u001b[0;34m:\u001b[0m\u001b[0;34m\u001b[0m\u001b[0;34m\u001b[0m\u001b[0m\n",
      "\u001b[0;32m~/anaconda3/envs/tensorflow_env/lib/python3.7/site-packages/keras/engine/training.py\u001b[0m in \u001b[0;36m_standardize_user_data\u001b[0;34m(self, x, y, sample_weight, class_weight, check_array_lengths, batch_size)\u001b[0m\n\u001b[1;32m    802\u001b[0m             ]\n\u001b[1;32m    803\u001b[0m             \u001b[0;31m# Check that all arrays have the same length.\u001b[0m\u001b[0;34m\u001b[0m\u001b[0;34m\u001b[0m\u001b[0;34m\u001b[0m\u001b[0m\n\u001b[0;32m--> 804\u001b[0;31m             \u001b[0mcheck_array_length_consistency\u001b[0m\u001b[0;34m(\u001b[0m\u001b[0mx\u001b[0m\u001b[0;34m,\u001b[0m \u001b[0my\u001b[0m\u001b[0;34m,\u001b[0m \u001b[0msample_weights\u001b[0m\u001b[0;34m)\u001b[0m\u001b[0;34m\u001b[0m\u001b[0;34m\u001b[0m\u001b[0m\n\u001b[0m\u001b[1;32m    805\u001b[0m             \u001b[0;32mif\u001b[0m \u001b[0mself\u001b[0m\u001b[0;34m.\u001b[0m\u001b[0m_is_graph_network\u001b[0m\u001b[0;34m:\u001b[0m\u001b[0;34m\u001b[0m\u001b[0;34m\u001b[0m\u001b[0m\n\u001b[1;32m    806\u001b[0m                 \u001b[0;31m# Additional checks to avoid users mistakenly\u001b[0m\u001b[0;34m\u001b[0m\u001b[0;34m\u001b[0m\u001b[0;34m\u001b[0m\u001b[0m\n",
      "\u001b[0;32m~/anaconda3/envs/tensorflow_env/lib/python3.7/site-packages/keras/engine/training_utils.py\u001b[0m in \u001b[0;36mcheck_array_length_consistency\u001b[0;34m(inputs, targets, weights)\u001b[0m\n\u001b[1;32m    235\u001b[0m                          \u001b[0;34m'the same number of samples as target arrays. '\u001b[0m\u001b[0;34m\u001b[0m\u001b[0;34m\u001b[0m\u001b[0m\n\u001b[1;32m    236\u001b[0m                          \u001b[0;34m'Found '\u001b[0m \u001b[0;34m+\u001b[0m \u001b[0mstr\u001b[0m\u001b[0;34m(\u001b[0m\u001b[0mlist\u001b[0m\u001b[0;34m(\u001b[0m\u001b[0mset_x\u001b[0m\u001b[0;34m)\u001b[0m\u001b[0;34m[\u001b[0m\u001b[0;36m0\u001b[0m\u001b[0;34m]\u001b[0m\u001b[0;34m)\u001b[0m \u001b[0;34m+\u001b[0m \u001b[0;34m' input samples '\u001b[0m\u001b[0;34m\u001b[0m\u001b[0;34m\u001b[0m\u001b[0m\n\u001b[0;32m--> 237\u001b[0;31m                          'and ' + str(list(set_y)[0]) + ' target samples.')\n\u001b[0m\u001b[1;32m    238\u001b[0m     \u001b[0;32mif\u001b[0m \u001b[0mlen\u001b[0m\u001b[0;34m(\u001b[0m\u001b[0mset_w\u001b[0m\u001b[0;34m)\u001b[0m \u001b[0;34m>\u001b[0m \u001b[0;36m1\u001b[0m\u001b[0;34m:\u001b[0m\u001b[0;34m\u001b[0m\u001b[0;34m\u001b[0m\u001b[0m\n\u001b[1;32m    239\u001b[0m         raise ValueError('All sample_weight arrays should have '\n",
      "\u001b[0;31mValueError\u001b[0m: Input arrays should have the same number of samples as target arrays. Found 1 input samples and 480 target samples."
     ]
    }
   ],
   "source": [
    "print(X_test.shape)\n",
    "X_test = X_test.reshape(X_test.shape[0], feature_dim_1, feature_dim_2, channel)\n",
    "d = model.evaluate(x=X_test, y=y_test_hot)\n",
    "print(d)\n",
    "\n",
    "#[0.16006851233541966, 0.94375] --> 5"
   ]
  },
  {
   "cell_type": "markdown",
   "metadata": {},
   "source": [
    "# Data Augmentation"
   ]
  },
  {
   "cell_type": "code",
   "execution_count": null,
   "metadata": {},
   "outputs": [],
   "source": []
  }
 ],
 "metadata": {
  "kernelspec": {
   "display_name": "tensorflow",
   "language": "python",
   "name": "tensorflow"
  },
  "language_info": {
   "codemirror_mode": {
    "name": "ipython",
    "version": 3
   },
   "file_extension": ".py",
   "mimetype": "text/x-python",
   "name": "python",
   "nbconvert_exporter": "python",
   "pygments_lexer": "ipython3",
   "version": "3.7.5"
  }
 },
 "nbformat": 4,
 "nbformat_minor": 2
}
