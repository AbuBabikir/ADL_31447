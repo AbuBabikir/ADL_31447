{
 "cells": [
  {
   "cell_type": "markdown",
   "metadata": {},
   "source": [
    "# Read and preprocess audio files\n",
    "## Dataset\n",
    "https://github.com/Jakobovski/free-spoken-digit-dataset\n",
    "\n",
    "## Speech processing\n",
    "https://haythamfayek.com/2016/04/21/speech-processing-for-machine-learning.html\n",
    "        "
   ]
  },
  {
   "cell_type": "code",
   "execution_count": 1,
   "metadata": {},
   "outputs": [],
   "source": [
    "import tensorflow as tf\n",
    "import os\n",
    "import numpy as np\n",
    "import pandas as pd"
   ]
  },
  {
   "cell_type": "code",
   "execution_count": 2,
   "metadata": {},
   "outputs": [],
   "source": [
    "curr_dir = os.getcwd()\n",
    "\n",
    "data_output_dir = curr_dir + '/mfcc_output/'\n",
    "\n",
    "dataFrame = pd.read_csv('data/data.csv')\n",
    "\n",
    "jackson_data = dataFrame.loc[dataFrame.label == 'jackson']\n",
    "nicolas_data = dataFrame.loc[dataFrame.label == 'nicolas']\n",
    "theo_data = dataFrame.loc[dataFrame.label == 'theo']\n",
    "yweweler_data = dataFrame.loc[dataFrame.label == 'yweweler']\n",
    "\n",
    "def preprocess(data):\n",
    "    \"\"\"Splits data to train and test set\n",
    "\n",
    "    Parameters:\n",
    "    data (string): files {label}_{name}_{digit}.wav\n",
    "\n",
    "    Returns:\n",
    "    tuple: returns test and train data\n",
    "\n",
    "    \"\"\"\n",
    "    data = data.reindex(np.random.permutation(data.index))\n",
    "    train, test = (data.head(400), data.tail(100))\n",
    "    \n",
    "    \n",
    "    return train, test\n"
   ]
  },
  {
   "cell_type": "code",
   "execution_count": 3,
   "metadata": {},
   "outputs": [],
   "source": [
    "# Split up data\n",
    "\n",
    "jackson_train, jackson_test=preprocess(jackson_data)\n",
    "nicolas_train, nicolas_test=preprocess(nicolas_data)\n",
    "theo_train, theo_test=preprocess(theo_data)\n",
    "yweweler_train, yweweler_test=preprocess(yweweler_data)"
   ]
  },
  {
   "cell_type": "code",
   "execution_count": 4,
   "metadata": {},
   "outputs": [
    {
     "name": "stdout",
     "output_type": "stream",
     "text": [
      "file     500\n",
      "label    500\n",
      "dtype: int64\n",
      "                       file    label\n",
      "0   jackson/0_jackson_0.wav  jackson\n",
      "1   jackson/0_jackson_1.wav  jackson\n",
      "2  jackson/0_jackson_10.wav  jackson\n",
      "================================================\n",
      "file     500\n",
      "label    500\n",
      "dtype: int64\n",
      "                         file    label\n",
      "500   nicolas/0_nicolas_0.wav  nicolas\n",
      "501   nicolas/0_nicolas_1.wav  nicolas\n",
      "502  nicolas/0_nicolas_10.wav  nicolas\n",
      "================================================\n",
      "file     500\n",
      "label    500\n",
      "dtype: int64\n",
      "                    file label\n",
      "1000   theo/0_theo_0.wav  theo\n",
      "1001   theo/0_theo_1.wav  theo\n",
      "1002  theo/0_theo_10.wav  theo\n",
      "================================================\n",
      "file     500\n",
      "label    500\n",
      "dtype: int64\n",
      "                            file     label\n",
      "1500   yweweler/0_yweweler_0.wav  yweweler\n",
      "1501   yweweler/0_yweweler_1.wav  yweweler\n",
      "1502  yweweler/0_yweweler_10.wav  yweweler\n"
     ]
    }
   ],
   "source": [
    "print(jackson_data.count())\n",
    "print(jackson_data.head(3))\n",
    "print(\"================================================\")\n",
    "print(nicolas_data.count())\n",
    "print(nicolas_data.head(3))\n",
    "print(\"================================================\")\n",
    "print(theo_data.count())\n",
    "print(theo_data.head(3))\n",
    "print(\"================================================\")\n",
    "print(yweweler_data.count())\n",
    "print(yweweler_data.head(3))"
   ]
  },
  {
   "cell_type": "code",
   "execution_count": 5,
   "metadata": {},
   "outputs": [
    {
     "name": "stdout",
     "output_type": "stream",
     "text": [
      "data/jackson/0_jackson_0.wav\n",
      "data/nicolas/0_nicolas_0.wav\n",
      "data/theo/0_theo_0.wav\n",
      "data/yweweler/0_yweweler_0.wav\n"
     ]
    },
    {
     "data": {
      "image/png": "[encoded data removed]",
      "text/plain": [
       "<Figure size 2880x720 with 4 Axes>"
      ]
     },
     "metadata": {
      "needs_background": "light"
     },
     "output_type": "display_data"
    }
   ],
   "source": [
    "from python_speech_features import mfcc\n",
    "import wave\n",
    "import librosa.display\n",
    "import matplotlib.pyplot as plt\n",
    "\n",
    "def getFrameRate():\n",
    "    frame_rate=0\n",
    "    #prev_frame_rate=-1\n",
    "    #curr_frame_rate=0\n",
    "    for file_name in dataFrame['file']:\n",
    "        with wave.open('data/' + file_name, \"rb\") as wave_file:\n",
    "            frame_rate = wave_file.getframerate()\n",
    "            break\n",
    "        #if prev_frame_rate < 0:\n",
    "        #    continue\n",
    "        #if prev_frame_rate != curr_frame_rate:\n",
    "        #    raise Exception(\"Invalid frame rate\")\n",
    "        #    \n",
    "        #if frame_rate < curr_frame_rate:\n",
    "        #    frame_rate = curr_frame_rate\n",
    "    \n",
    "    return frame_rate\n",
    "\n",
    "def displayMfccExamples(mfcc_samples):\n",
    "    fig, axes = plt.subplots(nrows=2, ncols=2, sharex=False, sharey=True,figsize=(40,10))\n",
    "    i=0\n",
    "    for x in range(2):\n",
    "        for y in range(2):\n",
    "            axes[x,y].set_title(list(mfcc_samples.keys())[i])\n",
    "            axes[x,y].imshow(list(mfcc_samples.values())[i],\n",
    "                            cmap='hot', interpolation='nearest')\n",
    "            axes[x,y].get_xaxis().set_visible(False)\n",
    "            axes[x,y].get_yaxis().set_visible(False)\n",
    "            i += 1\n",
    "            \n",
    "    return\n",
    "    \n",
    "SAMPLING_RATE = getFrameRate()\n",
    "classes = dataFrame.label.unique()\n",
    "samples = {}\n",
    "\n",
    "for aClass in classes:\n",
    "    fileName = dataFrame[dataFrame.label == aClass].iloc[0].file\n",
    "    filePath = 'data/' + fileName\n",
    "    print (filePath)\n",
    "    w, rate = librosa.load(filePath, sr=SAMPLING_RATE)\n",
    "    samples[aClass] = mfcc(w[:rate], rate)\n",
    "    \n",
    "displayMfccExamples(samples)\n",
    "plt.show()"
   ]
  },
  {
   "cell_type": "code",
   "execution_count": 91,
   "metadata": {},
   "outputs": [
    {
     "name": "stderr",
     "output_type": "stream",
     "text": [
      "1600it [00:06, 254.46it/s]\n"
     ]
    }
   ],
   "source": [
    "from keras.layers import Conv2D, MaxPooling2D, Dropout, Dense, Flatten\n",
    "from keras.models import Sequential\n",
    "from keras.utils import to_categorical\n",
    "from sklearn.utils.class_weight import compute_class_weight\n",
    "from tqdm import tqdm\n",
    "\n",
    "labels_count = len(classes)\n",
    "\n",
    "X = []\n",
    "y = []\n",
    "\n",
    "def getOneHotVectorViaClass(aClass):\n",
    "    arr = np.zeros(labels_count)\n",
    "    i = np.where(classes == aClass)\n",
    "    arr[i] = 1\n",
    "    return arr\n",
    "\n",
    "MFCC_MAX_LEN = 100 #2000\n",
    "MFCC_NUM = 5 # 20\n",
    "\n",
    "def wav2mfcc(wave, max_len=MFCC_MAX_LEN):\n",
    "    # mfcc = librosa.feature.mfcc(wave, sr=16000)\n",
    "    mfcc = librosa.feature.mfcc(wave, n_mfcc=MFCC_NUM, sr=SAMPLING_RATE)\n",
    "\n",
    "    # If maximum length exceeds mfcc lengths then pad the remaining ones\n",
    "    if (max_len > mfcc.shape[1]):\n",
    "        pad_width = max_len - mfcc.shape[1]\n",
    "        mfcc = np.pad(mfcc, pad_width=((0, 0), (0, pad_width)), mode='constant')\n",
    "\n",
    "    # Else cutoff the remaining parts\n",
    "    else:\n",
    "        mfcc = mfcc[:, :max_len]\n",
    "    \n",
    "    return mfcc\n",
    "\n",
    "def append_X_Y(aClass, wave):\n",
    "    y.append(getOneHotVectorViaClass(aClass))\n",
    "    audio_mfcc = wav2mfcc(wave)\n",
    "    X.append(audio_mfcc)\n",
    "    \n",
    "train_data = pd.concat([jackson_train, nicolas_train, yweweler_train, theo_train])\n",
    "\n",
    "for index, row in tqdm(train_data.iterrows()):\n",
    "    label = row[\"label\"]\n",
    "    wave, sr = librosa.load('data/' + row[\"file\"], mono=True, sr=SAMPLING_RATE)\n",
    "    wave = wave\n",
    "    \n",
    "    append_X_Y(label, wave)\n"
   ]
  },
  {
   "cell_type": "code",
   "execution_count": 92,
   "metadata": {},
   "outputs": [
    {
     "name": "stdout",
     "output_type": "stream",
     "text": [
      "X shape:  (1600, 5, 100)\n",
      "Length of y:  1600\n"
     ]
    },
    {
     "data": {
      "text/plain": [
       "True"
      ]
     },
     "execution_count": 92,
     "metadata": {},
     "output_type": "execute_result"
    }
   ],
   "source": [
    "X = np.array(X)\n",
    "y = np.array(y)\n",
    "print(\"X shape: \" , X.shape)\n",
    "print(\"Length of y: \", len(y))\n",
    "X.shape[0] == len(y)"
   ]
  },
  {
   "cell_type": "code",
   "execution_count": 93,
   "metadata": {},
   "outputs": [
    {
     "name": "stdout",
     "output_type": "stream",
     "text": [
      "[1. 0. 0. 0.]\n"
     ]
    }
   ],
   "source": [
    "# y_hot = to_categorical(y)\n",
    "y_hot = y\n",
    "print(y_hot[0])"
   ]
  },
  {
   "cell_type": "code",
   "execution_count": 94,
   "metadata": {},
   "outputs": [],
   "source": [
    "from sklearn.model_selection import train_test_split\n",
    "\n",
    "X_train, X_test, y_train, y_test = train_test_split(X, y_hot, test_size= 0.2, random_state=True, shuffle=True)"
   ]
  },
  {
   "cell_type": "code",
   "execution_count": 95,
   "metadata": {},
   "outputs": [
    {
     "data": {
      "text/plain": [
       "(1280, 5, 100)"
      ]
     },
     "execution_count": 95,
     "metadata": {},
     "output_type": "execute_result"
    }
   ],
   "source": [
    "X_train.shape"
   ]
  },
  {
   "cell_type": "code",
   "execution_count": 96,
   "metadata": {},
   "outputs": [
    {
     "data": {
      "text/plain": [
       "array([[0., 1., 0., 0.],\n",
       "       [1., 0., 0., 0.],\n",
       "       [1., 0., 0., 0.],\n",
       "       ...,\n",
       "       [0., 0., 0., 1.],\n",
       "       [1., 0., 0., 0.],\n",
       "       [0., 0., 0., 1.]])"
      ]
     },
     "execution_count": 96,
     "metadata": {},
     "output_type": "execute_result"
    }
   ],
   "source": [
    "y_train"
   ]
  },
  {
   "cell_type": "code",
   "execution_count": 97,
   "metadata": {},
   "outputs": [],
   "source": [
    "# Feature dimension\n",
    "feature_dim_1 = MFCC_NUM\n",
    "# Second dimension of the feature is dim2\n",
    "feature_dim_2 = MFCC_MAX_LEN\n",
    "channel = 1\n",
    "epochs = 10\n",
    "batch_size = 50\n",
    "verbose = 1\n",
    "num_classes = len(classes)"
   ]
  },
  {
   "cell_type": "code",
   "execution_count": 98,
   "metadata": {},
   "outputs": [
    {
     "name": "stdout",
     "output_type": "stream",
     "text": [
      "(1280, 5, 100)\n"
     ]
    }
   ],
   "source": [
    "# Reshaping to perform 2D convolution\n",
    "print(X_train.shape)\n",
    "X_train = X_train.reshape(X_train.shape[0], feature_dim_1, feature_dim_2, channel)\n",
    "X_test = X_test.reshape(X_test.shape[0], feature_dim_1, feature_dim_2, channel)\n",
    "\n",
    "y_train_hot = y_train\n",
    "y_test_hot = y_test"
   ]
  },
  {
   "cell_type": "code",
   "execution_count": 99,
   "metadata": {},
   "outputs": [],
   "source": [
    "import keras\n",
    "from keras.models import Sequential\n",
    "from keras.layers import Dense, Dropout, LSTM, Flatten, Conv2D, MaxPooling2D\n",
    "from keras.utils import to_categorical\n",
    "from keras import optimizers\n",
    "\n",
    "def get_model():\n",
    "    model = Sequential()\n",
    "    model.add(Conv2D(16, kernel_size=(2, 2), activation='relu', strides=(1, 1), padding=\"same\", input_shape=(feature_dim_1, feature_dim_2, channel)))\n",
    "    model.add(Conv2D(32, kernel_size=(2, 2), activation='relu', strides=(1, 1), padding=\"same\"))\n",
    "    model.add(Conv2D(64, kernel_size=(2, 2), activation='relu', strides=(1, 1), padding=\"same\"))\n",
    "    model.add(Conv2D(128, kernel_size=(2, 2), activation='relu', strides=(1, 1), padding=\"same\"))\n",
    "    model.add(MaxPooling2D(pool_size=(2, 2)))\n",
    "    model.add(Dropout(0.5))\n",
    "    model.add(Flatten())\n",
    "    model.add(Dense(128, activation='relu'))\n",
    "    model.add(Dense(64, activation='relu'))\n",
    "    model.add(Dense(num_classes, activation='softmax'))\n",
    "    return model"
   ]
  },
  {
   "cell_type": "code",
   "execution_count": 100,
   "metadata": {},
   "outputs": [
    {
     "name": "stdout",
     "output_type": "stream",
     "text": [
      "_________________________________________________________________\n",
      "Layer (type)                 Output Shape              Param #   \n",
      "=================================================================\n",
      "conv2d_17 (Conv2D)           (None, 5, 100, 16)        80        \n",
      "_________________________________________________________________\n",
      "conv2d_18 (Conv2D)           (None, 5, 100, 32)        2080      \n",
      "_________________________________________________________________\n",
      "conv2d_19 (Conv2D)           (None, 5, 100, 64)        8256      \n",
      "_________________________________________________________________\n",
      "conv2d_20 (Conv2D)           (None, 5, 100, 128)       32896     \n",
      "_________________________________________________________________\n",
      "max_pooling2d_5 (MaxPooling2 (None, 2, 50, 128)        0         \n",
      "_________________________________________________________________\n",
      "dropout_5 (Dropout)          (None, 2, 50, 128)        0         \n",
      "_________________________________________________________________\n",
      "flatten_5 (Flatten)          (None, 12800)             0         \n",
      "_________________________________________________________________\n",
      "dense_13 (Dense)             (None, 128)               1638528   \n",
      "_________________________________________________________________\n",
      "dense_14 (Dense)             (None, 64)                8256      \n",
      "_________________________________________________________________\n",
      "dense_15 (Dense)             (None, 4)                 260       \n",
      "=================================================================\n",
      "Total params: 1,690,356\n",
      "Trainable params: 1,690,356\n",
      "Non-trainable params: 0\n",
      "_________________________________________________________________\n",
      "Train on 1280 samples, validate on 320 samples\n",
      "Epoch 1/10\n",
      "1280/1280 [==============================] - 7s 6ms/step - loss: 0.7833 - acc: 0.6570 - val_loss: 0.4266 - val_acc: 0.8062\n",
      "Epoch 2/10\n",
      "1280/1280 [==============================] - 5s 4ms/step - loss: 0.3357 - acc: 0.8523 - val_loss: 0.3774 - val_acc: 0.8406\n",
      "Epoch 3/10\n",
      "1280/1280 [==============================] - 5s 4ms/step - loss: 0.2824 - acc: 0.8883 - val_loss: 0.2191 - val_acc: 0.9313\n",
      "Epoch 4/10\n",
      "1280/1280 [==============================] - 5s 4ms/step - loss: 0.1943 - acc: 0.9219 - val_loss: 0.2232 - val_acc: 0.9125\n",
      "Epoch 5/10\n",
      "1280/1280 [==============================] - 5s 4ms/step - loss: 0.1809 - acc: 0.9336 - val_loss: 0.1373 - val_acc: 0.9531\n",
      "Epoch 6/10\n",
      "1280/1280 [==============================] - 5s 4ms/step - loss: 0.1426 - acc: 0.9359 - val_loss: 0.1768 - val_acc: 0.9437\n",
      "Epoch 7/10\n",
      "1280/1280 [==============================] - 5s 4ms/step - loss: 0.1467 - acc: 0.9328 - val_loss: 0.1784 - val_acc: 0.9375\n",
      "Epoch 8/10\n",
      "1280/1280 [==============================] - 5s 4ms/step - loss: 0.0992 - acc: 0.9617 - val_loss: 0.1381 - val_acc: 0.9500\n",
      "Epoch 9/10\n",
      "1280/1280 [==============================] - 5s 4ms/step - loss: 0.0664 - acc: 0.9758 - val_loss: 0.1250 - val_acc: 0.9594\n",
      "Epoch 10/10\n",
      "1280/1280 [==============================] - 5s 4ms/step - loss: 0.0531 - acc: 0.9797 - val_loss: 0.1187 - val_acc: 0.9562\n"
     ]
    },
    {
     "data": {
      "text/plain": [
       "<keras.callbacks.History at 0x1c84178e90>"
      ]
     },
     "execution_count": 100,
     "metadata": {},
     "output_type": "execute_result"
    }
   ],
   "source": [
    "model = get_model()\n",
    "\n",
    "model.summary()\n",
    "model.compile(loss='categorical_crossentropy',\n",
    "              optimizer='adam',\n",
    "              metrics=['acc'])\n",
    "model.fit(X_train, y_train_hot, batch_size=batch_size, epochs=epochs, verbose=verbose, validation_data=(X_test, y_test_hot))"
   ]
  },
  {
   "cell_type": "code",
   "execution_count": 101,
   "metadata": {},
   "outputs": [
    {
     "name": "stderr",
     "output_type": "stream",
     "text": [
      "9it [00:00, 13.85it/s]"
     ]
    },
    {
     "name": "stdout",
     "output_type": "stream",
     "text": [
      "['jackson' 'nicolas' 'theo' 'yweweler']\n",
      "[1.6775567e-03 9.9818379e-01 6.1209495e-05 7.7462064e-05]\n",
      "Input:  nicolas/6_nicolas_22.wav  pred:  ['nicolas'] \n",
      "\n",
      "\n",
      "\n",
      "['jackson' 'nicolas' 'theo' 'yweweler']\n",
      "[2.8776649e-06 6.4825093e-05 8.2441838e-04 9.9910790e-01]\n",
      "Input:  yweweler/4_yweweler_29.wav  pred:  ['yweweler'] \n",
      "\n",
      "\n",
      "\n",
      "['jackson' 'nicolas' 'theo' 'yweweler']\n",
      "[8.7095932e-06 2.7140757e-04 2.3211287e-02 9.7650856e-01]\n",
      "Input:  yweweler/2_yweweler_13.wav  pred:  ['yweweler'] \n",
      "\n",
      "\n",
      "\n",
      "['jackson' 'nicolas' 'theo' 'yweweler']\n",
      "[9.9999678e-01 2.2400496e-08 3.2105836e-06 8.4488878e-09]\n",
      "Input:  jackson/4_jackson_33.wav  pred:  ['jackson'] \n",
      "\n",
      "\n",
      "\n",
      "['jackson' 'nicolas' 'theo' 'yweweler']\n",
      "[4.2789445e-05 9.9993169e-01 2.4332412e-06 2.3094341e-05]\n",
      "Input:  nicolas/0_nicolas_48.wav  pred:  ['nicolas'] \n",
      "\n",
      "\n",
      "\n",
      "['jackson' 'nicolas' 'theo' 'yweweler']\n",
      "[2.9180013e-04 2.1985967e-01 6.8522519e-01 9.4623372e-02]\n",
      "Input:  nicolas/3_nicolas_38.wav  pred:  ['theo'] \n",
      "\n",
      "\n",
      "\n",
      "['jackson' 'nicolas' 'theo' 'yweweler']\n",
      "[9.9999857e-01 1.3874709e-06 1.7973597e-09 9.5078407e-09]\n",
      "Input:  jackson/3_jackson_33.wav  pred:  ['jackson'] \n",
      "\n",
      "\n",
      "\n",
      "['jackson' 'nicolas' 'theo' 'yweweler']\n",
      "[2.0686463e-03 6.6484004e-05 5.0960850e-02 9.4690400e-01]\n",
      "Input:  yweweler/8_yweweler_33.wav  pred:  ['yweweler'] \n",
      "\n",
      "\n",
      "\n",
      "['jackson' 'nicolas' 'theo' 'yweweler']\n",
      "[1.0000000e+00 2.2319299e-10 1.6864184e-09 1.2361179e-10]\n",
      "Input:  jackson/2_jackson_23.wav  pred:  ['jackson'] \n",
      "\n",
      "\n",
      "\n"
     ]
    },
    {
     "name": "stderr",
     "output_type": "stream",
     "text": [
      "\n"
     ]
    }
   ],
   "source": [
    "combDf = pd.concat([nicolas_test.head(3), jackson_test.head(3), yweweler_test.head(3)])\n",
    "combDf = combDf.sample(frac=1)\n",
    "#print(combDf)\n",
    "\n",
    "for index, row in tqdm(combDf.iterrows()):\n",
    "    #print(row)\n",
    "    wave, sr = librosa.load('data/' + row[\"file\"], mono=True, sr=SAMPLING_RATE)\n",
    "    #wave = wave[::3]\n",
    "    \n",
    "    mfcc = wav2mfcc(wave)\n",
    "    X_test = mfcc.reshape(1, feature_dim_1, feature_dim_2, channel)\n",
    "    preds = model.predict(X_test)[0]\n",
    "    \n",
    "    targetIndex=np.where(preds == np.amax(preds))[0]\n",
    "    print(classes)\n",
    "    print(preds)\n",
    "    print('Input: ', row['file'], ' pred: ', classes[targetIndex], '\\n\\n\\n')"
   ]
  },
  {
   "cell_type": "code",
   "execution_count": null,
   "metadata": {},
   "outputs": [],
   "source": [
    "from os import listdir\n",
    "from os.path import isfile, join\n",
    "    \n",
    "while(True):\n",
    "    for file in os.listdir('./'):\n",
    "        if file.endswith('.wav'):\n",
    "            #print(row)\n",
    "            wave, sr = librosa.load(file, mono=True, sr=2000)\n",
    "            #wave = wave[::3]\n",
    "\n",
    "            mfcc = wav2mfcc(wave)\n",
    "            X_test = mfcc.reshape(1, feature_dim_1, feature_dim_2, channel)\n",
    "            preds = model.predict(X_test)[0]\n",
    "\n",
    "            targetIndex=np.where(preds == np.amax(preds))[0]\n",
    "            print(classes)\n",
    "            print(preds)\n",
    "            print('Input: ', file, ' pred: ', classes[targetIndex], '\\n\\n\\n')"
   ]
  },
  {
   "cell_type": "code",
   "execution_count": null,
   "metadata": {},
   "outputs": [],
   "source": [
    "os.listdir('./')"
   ]
  },
  {
   "cell_type": "code",
   "execution_count": null,
   "metadata": {},
   "outputs": [],
   "source": [
    "targetFile = np.where(np.asarray(os.listdir('./') == .endswith('.wav')))"
   ]
  },
  {
   "cell_type": "code",
   "execution_count": 90,
   "metadata": {},
   "outputs": [
    {
     "name": "stderr",
     "output_type": "stream",
     "text": [
      "1it [00:00, 364.53it/s]"
     ]
    },
    {
     "name": "stdout",
     "output_type": "stream",
     "text": [
      "[-0.01467896 -0.00363159 -0.00595093 ... -0.00650024 -0.00927734\n",
      " -0.00976562]\n",
      "-0.014678955\n",
      "[-0.01467896 -0.00363159 -0.00595093 ... -0.00650024 -0.00927734\n",
      " -0.00976562]\n"
     ]
    },
    {
     "name": "stderr",
     "output_type": "stream",
     "text": [
      "\n"
     ]
    }
   ],
   "source": [
    "for index, row in tqdm(combDf.head(1).iterrows()):\n",
    "    #print(row)\n",
    "    wave, sr = librosa.load('data/' + row[\"file\"], mono=True, sr=SAMPLING_RATE)\n",
    "    print(wave[0::1])\n",
    "    print(wave[0])\n",
    "    print(wave)\n",
    "    #wave = wave[::3]"
   ]
  },
  {
   "cell_type": "code",
   "execution_count": null,
   "metadata": {},
   "outputs": [],
   "source": []
  },
  {
   "cell_type": "code",
   "execution_count": null,
   "metadata": {},
   "outputs": [],
   "source": []
  }
 ],
 "metadata": {
  "kernelspec": {
   "display_name": "tensorflow",
   "language": "python",
   "name": "tensorflow"
  },
  "language_info": {
   "codemirror_mode": {
    "name": "ipython",
    "version": 3
   },
   "file_extension": ".py",
   "mimetype": "text/x-python",
   "name": "python",
   "nbconvert_exporter": "python",
   "pygments_lexer": "ipython3",
   "version": "3.7.5"
  }
 },
 "nbformat": 4,
 "nbformat_minor": 2
}
